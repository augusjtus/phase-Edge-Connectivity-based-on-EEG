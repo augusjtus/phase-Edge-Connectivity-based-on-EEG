{
 "cells": [
  {
   "cell_type": "code",
   "execution_count": null,
   "metadata": {},
   "outputs": [],
   "source": [
    "import numpy as np\n",
    "# import scipy.io as scio\n",
    "import pandas as pd\n",
    "\n",
    "import Accuracy_motion_state\n",
    "\n",
    "import VFC_dyad\n",
    "import Idiff\n",
    "import Idiff_sit\n",
    "\n",
    "# 输入数据路径\n",
    "GROUP1_DATA2021_FOLDER = 'data2021/Class1-Parent'#亲子组\n",
    "GROUP2_DATA2021_FOLDER = 'data2021/Class2-Stranger'#陌生人组\n",
    "GROUP1_DATA2023_FOLDER = 'data2023/Class1-Parent'#亲子组\n",
    "GROUP2_DATA2023_FOLDER = 'data2023/Class2-Stranger'#陌生人组\n",
    "GROUP1_DATAALL_FOLDER = 'data_all/Class1-Parent'#亲子组\n",
    "GROUP2_DATAALL_FOLDER = 'data_all/Class2-Stranger'#陌生人组\n",
    "\n",
    "# 输入数据结构：\n",
    "# 每个数据文件包含6种拼图场景，其中前面的1/2表示儿童拼或者成人拼，\n",
    "# 后面的1/2/3表示单独/陪伴/合作,只关注3（合作）\n",
    "sit_c1 = 'ca11' #儿童拼-单独\n",
    "sit_a1 = 'ca21' #成人拼-单独\n",
    "sit_c2 = 'ca12' #儿童拼-陪伴\n",
    "sit_a2 = 'ca22' #成人拼-陪伴\n",
    "sit_c3 = 'ca13' #儿童拼-合作\n",
    "sit_a3 = 'ca23' #成人拼-合作\n",
    "# 每种情况包含4个cell文件，分别对应4个频段：1-3，3-6，6-9，9-12\n",
    "delta,theta,alpha,belta=0,1,2,3\n",
    "freq_all=['delta','theta','alpha','belta']\n",
    "# 每个cell文件的格式为通道数*时间点数*被试数\n",
    "# 通道数: 其中1-28为儿童，29-56为成人，通过subc选择类型\n",
    "# 28个通道及其对应的索引为：\n",
    "channame_full = ['Fp1','Fp2','Fz','F3','F4','F7','F8','FC1','FC2','FC5','FC6','Cz','C3','C4','T7','T8','CP1','CP2','CP5','CP6','Pz','P3','P4','P7','P8','Oz','O1','O2']\n",
    "id_chan_all = list(range(0,28))\n",
    "# 26个通道及其对应的索引为：\n",
    "channame_test = ['Fp1','Fp2','Fz','F3','F4','F7','F8','FC1','FC2','FC5','FC6','Cz','C3','C4','CP1','CP2','CP5','CP6','Pz','P3','P4','P7','P8','Oz','O1','O2']\n",
    "id_chan_test = [ 0,  1,  2,  3,  4,  5,  6,  7,  8,  9, 10, 11, 12, 13, 16, 17,\n",
    "        18, 19, 20, 21, 22, 23, 24, 25, 26, 27]\n",
    "\n",
    "# 参数设置\n",
    "chan_num = 28 #通道数\n",
    "edge_num = int(chan_num*(chan_num-1)/2) #边数\n",
    "Nuptran_indices = VFC_dyad.uptran_mask(chan_num) #矩阵上三角列向量的位置\n",
    "Euptran_indices = VFC_dyad.uptran_mask(edge_num) #矩阵上三角列向量的位置\n",
    "Vtype='uptran'\n",
    "\n",
    "# itype指边连接强度的计算方式，'p','c','d'分别代表：PLV复指数、corr相关、delta做差\n",
    "itype_all=['e','c','d']\n",
    "itype=itype_all[0]\n",
    "# corr_type指边与边之间共波动特性的计算方式，'cos','pearson','delta'分别代表：\n",
    "# 余弦相似度，皮尔逊相关系数，直接做差\n",
    "corr_type_all=['cos','pearson','delta']\n",
    "corr_type=corr_type_all[0]\n",
    "\n",
    "tp=2000\n",
    "\n",
    "freq=theta #频段\n",
    "subc='child'  #对象类型 \n",
    "\n",
    "condition = 'motion'"
   ]
  },
  {
   "cell_type": "code",
   "execution_count": 10,
   "metadata": {},
   "outputs": [],
   "source": [
    "if condition == 'motion':\n",
    "    GROUP_DATA_FOLDER = GROUP1_DATAALL_FOLDER\n",
    "    motion_comp = [sit_a3,sit_c3]\n",
    "elif condition == 'state':\n",
    "    GROUP_DATA_FOLDER = GROUP1_DATA2021_FOLDER\n",
    "    motion_comp = [sit_c1,sit_c2,sit_c3]\n"
   ]
  },
  {
   "cell_type": "markdown",
   "metadata": {},
   "source": [
    "## 1、神经活动（包括拼图动作和状态）识别性，总体Idiff"
   ]
  },
  {
   "cell_type": "markdown",
   "metadata": {},
   "source": [
    "### 计算nFC方法的结果，用以比较"
   ]
  },
  {
   "cell_type": "code",
   "execution_count": 11,
   "metadata": {},
   "outputs": [
    {
     "name": "stdout",
     "output_type": "stream",
     "text": [
      "0.8049105727805744 0.7859908088838947\n",
      "0.7116986699037994 0.687414827193377\n",
      "0.7214330033515294 0.719805320950855\n",
      "0.811733375891962 0.8070675319700762\n",
      "0.7680481149725488 0.7642273971566886\n",
      "0.7784647838610286 0.7913335029069715\n",
      "0.7529819519198538 0.7694554182837049\n",
      "0.8040952503683095 0.8022003098525748\n",
      "0.7585629911358718 0.7447784736700176\n",
      "0.7231933975455315 0.7384930040378167\n",
      "0.7727252380734747 0.7576396903597653\n",
      "0.7395626420043635 0.7232469258286789\n",
      "0.8271986956992295 0.7988426285961772\n",
      "0.7470976262337959 0.7527864737182927\n",
      "0.7918135028560277 0.7766431737140347\n",
      "0.7630285879126907 0.7801713561174003\n",
      "0.7432612901934779 0.7072509202825118\n",
      "0.7103182312761687 0.7139647749360555\n"
     ]
    }
   ],
   "source": [
    "acrcy_list_nfc,binary_acrcy_list_nfc=Accuracy_motion_state.Acc_motion_nFC_all(GROUP_DATA_FOLDER=GROUP_DATA_FOLDER,motion_comp=motion_comp,\n",
    "                    freq=freq,subc=subc,corr_type=corr_type)"
   ]
  },
  {
   "cell_type": "code",
   "execution_count": 12,
   "metadata": {},
   "outputs": [
    {
     "data": {
      "text/plain": [
       "0.358351504591342"
      ]
     },
     "execution_count": 12,
     "metadata": {},
     "output_type": "execute_result"
    }
   ],
   "source": [
    "acrcy_mean_nfc = np.mean(acrcy_list_nfc)\n",
    "acrcy_mean_nfc"
   ]
  },
  {
   "cell_type": "code",
   "execution_count": 13,
   "metadata": {},
   "outputs": [
    {
     "data": {
      "text/plain": [
       "0.546265545189505"
      ]
     },
     "execution_count": 13,
     "metadata": {},
     "output_type": "execute_result"
    }
   ],
   "source": [
    "binary_acrcy_mean_nfc = np.mean(binary_acrcy_list_nfc)\n",
    "binary_acrcy_mean_nfc"
   ]
  },
  {
   "cell_type": "markdown",
   "metadata": {},
   "source": [
    "### 方法：使用最小生成树MST对VeFC序列矩阵降维"
   ]
  },
  {
   "cell_type": "code",
   "execution_count": 14,
   "metadata": {},
   "outputs": [
    {
     "name": "stdout",
     "output_type": "stream",
     "text": [
      "0.12835099916011583 0.11106622921968336\n",
      "0.27761646459089573 0.20933956921591423\n",
      "0.17414076540615686 0.1819253433505459\n",
      "0.15037670792857247 0.12570493553311396\n",
      "0.22146260860305578 0.20557200027030387\n",
      "0.12859544196155223 0.1858138349614167\n",
      "0.15389899389712947 0.1792835439173661\n",
      "0.19756510754287096 0.18509237925990246\n",
      "0.18676187681463677 0.13188298058434014\n",
      "0.16275717452099248 0.1794600367765801\n",
      "0.1734215167217359 0.14573989527786524\n",
      "0.23484094732807628 0.14428997411809658\n",
      "0.23640333106770134 0.22229545398054731\n",
      "0.08648818831389232 0.1428098020025457\n",
      "0.3028798625814418 0.21090805521594808\n",
      "0.11847120038083277 0.14969824674644636\n",
      "0.22955300362774503 0.197694145252456\n",
      "0.20682916145246544 0.07554981078936003\n"
     ]
    },
    {
     "data": {
      "text/plain": [
       "0.3728587233130514"
      ]
     },
     "execution_count": 14,
     "metadata": {},
     "output_type": "execute_result"
    }
   ],
   "source": [
    "acrcy_list_efc,binary_acrcy_list_efc=Accuracy_motion_state.Acc_motion_eFC_all(GROUP_DATA_FOLDER,motion_comp,freq,subc,corr_type,None)\n",
    "acrcy_mean_efc = np.mean(acrcy_list_efc)\n",
    "acrcy_mean_efc"
   ]
  },
  {
   "cell_type": "code",
   "execution_count": 15,
   "metadata": {},
   "outputs": [
    {
     "data": {
      "text/plain": [
       "0.5568439197444458"
      ]
     },
     "execution_count": 15,
     "metadata": {},
     "output_type": "execute_result"
    }
   ],
   "source": [
    "binary_acrcy_mean_efc = np.mean(binary_acrcy_list_efc)\n",
    "binary_acrcy_mean_efc"
   ]
  },
  {
   "cell_type": "code",
   "execution_count": 16,
   "metadata": {},
   "outputs": [
    {
     "data": {
      "text/html": [
       "<div>\n",
       "<style scoped>\n",
       "    .dataframe tbody tr th:only-of-type {\n",
       "        vertical-align: middle;\n",
       "    }\n",
       "\n",
       "    .dataframe tbody tr th {\n",
       "        vertical-align: top;\n",
       "    }\n",
       "\n",
       "    .dataframe thead th {\n",
       "        text-align: right;\n",
       "    }\n",
       "</style>\n",
       "<table border=\"1\" class=\"dataframe\">\n",
       "  <thead>\n",
       "    <tr style=\"text-align: right;\">\n",
       "      <th></th>\n",
       "      <th>nfc</th>\n",
       "      <th>efc</th>\n",
       "    </tr>\n",
       "  </thead>\n",
       "  <tbody>\n",
       "    <tr>\n",
       "      <th>0</th>\n",
       "      <td>0.475000</td>\n",
       "      <td>0.325000</td>\n",
       "    </tr>\n",
       "    <tr>\n",
       "      <th>1</th>\n",
       "      <td>0.463415</td>\n",
       "      <td>0.341463</td>\n",
       "    </tr>\n",
       "    <tr>\n",
       "      <th>2</th>\n",
       "      <td>0.333333</td>\n",
       "      <td>0.416667</td>\n",
       "    </tr>\n",
       "    <tr>\n",
       "      <th>3</th>\n",
       "      <td>0.230769</td>\n",
       "      <td>0.461538</td>\n",
       "    </tr>\n",
       "    <tr>\n",
       "      <th>4</th>\n",
       "      <td>0.634146</td>\n",
       "      <td>0.439024</td>\n",
       "    </tr>\n",
       "    <tr>\n",
       "      <th>5</th>\n",
       "      <td>0.268293</td>\n",
       "      <td>0.341463</td>\n",
       "    </tr>\n",
       "    <tr>\n",
       "      <th>6</th>\n",
       "      <td>0.190476</td>\n",
       "      <td>0.309524</td>\n",
       "    </tr>\n",
       "    <tr>\n",
       "      <th>7</th>\n",
       "      <td>0.275000</td>\n",
       "      <td>0.400000</td>\n",
       "    </tr>\n",
       "    <tr>\n",
       "      <th>8</th>\n",
       "      <td>0.256410</td>\n",
       "      <td>0.410256</td>\n",
       "    </tr>\n",
       "    <tr>\n",
       "      <th>9</th>\n",
       "      <td>0.275000</td>\n",
       "      <td>0.275000</td>\n",
       "    </tr>\n",
       "    <tr>\n",
       "      <th>10</th>\n",
       "      <td>0.256410</td>\n",
       "      <td>0.538462</td>\n",
       "    </tr>\n",
       "    <tr>\n",
       "      <th>11</th>\n",
       "      <td>0.472222</td>\n",
       "      <td>0.388889</td>\n",
       "    </tr>\n",
       "    <tr>\n",
       "      <th>12</th>\n",
       "      <td>0.500000</td>\n",
       "      <td>0.147059</td>\n",
       "    </tr>\n",
       "    <tr>\n",
       "      <th>13</th>\n",
       "      <td>0.405405</td>\n",
       "      <td>0.351351</td>\n",
       "    </tr>\n",
       "    <tr>\n",
       "      <th>14</th>\n",
       "      <td>0.300000</td>\n",
       "      <td>0.200000</td>\n",
       "    </tr>\n",
       "    <tr>\n",
       "      <th>15</th>\n",
       "      <td>0.346154</td>\n",
       "      <td>0.423077</td>\n",
       "    </tr>\n",
       "    <tr>\n",
       "      <th>16</th>\n",
       "      <td>0.268293</td>\n",
       "      <td>0.292683</td>\n",
       "    </tr>\n",
       "    <tr>\n",
       "      <th>17</th>\n",
       "      <td>0.500000</td>\n",
       "      <td>0.650000</td>\n",
       "    </tr>\n",
       "  </tbody>\n",
       "</table>\n",
       "</div>"
      ],
      "text/plain": [
       "         nfc       efc\n",
       "0   0.475000  0.325000\n",
       "1   0.463415  0.341463\n",
       "2   0.333333  0.416667\n",
       "3   0.230769  0.461538\n",
       "4   0.634146  0.439024\n",
       "5   0.268293  0.341463\n",
       "6   0.190476  0.309524\n",
       "7   0.275000  0.400000\n",
       "8   0.256410  0.410256\n",
       "9   0.275000  0.275000\n",
       "10  0.256410  0.538462\n",
       "11  0.472222  0.388889\n",
       "12  0.500000  0.147059\n",
       "13  0.405405  0.351351\n",
       "14  0.300000  0.200000\n",
       "15  0.346154  0.423077\n",
       "16  0.268293  0.292683\n",
       "17  0.500000  0.650000"
      ]
     },
     "execution_count": 16,
     "metadata": {},
     "output_type": "execute_result"
    }
   ],
   "source": [
    "acrcy_list = np.c_[acrcy_list_nfc, acrcy_list_efc]\n",
    "df_acrcy_list = pd.DataFrame(acrcy_list)\n",
    "\n",
    "# 添加列名和索引\n",
    "df_acrcy_list.columns=['nfc','efc'] #设置列名\n",
    "df_acrcy_list"
   ]
  },
  {
   "cell_type": "code",
   "execution_count": 17,
   "metadata": {},
   "outputs": [
    {
     "ename": "FileNotFoundError",
     "evalue": "[Errno 2] No such file or directory: 'output/Acc_state.xlsx'",
     "output_type": "error",
     "traceback": [
      "\u001b[1;31m---------------------------------------------------------------------------\u001b[0m",
      "\u001b[1;31mFileNotFoundError\u001b[0m                         Traceback (most recent call last)",
      "Cell \u001b[1;32mIn[17], line 9\u001b[0m\n\u001b[0;32m      6\u001b[0m new_sheet_name \u001b[38;5;241m=\u001b[39m subc\u001b[38;5;241m+\u001b[39m\u001b[38;5;124m'\u001b[39m\u001b[38;5;124m-\u001b[39m\u001b[38;5;124m'\u001b[39m\u001b[38;5;241m+\u001b[39mfreq_all[freq] \n\u001b[0;32m      7\u001b[0m \u001b[38;5;66;03m# # 比较各个分支的结果\u001b[39;00m\n\u001b[0;32m      8\u001b[0m \u001b[38;5;66;03m# new_sheet_name = itype+'-'+corr_type\u001b[39;00m\n\u001b[1;32m----> 9\u001b[0m excel_writer \u001b[38;5;241m=\u001b[39m \u001b[43mpd\u001b[49m\u001b[38;5;241;43m.\u001b[39;49m\u001b[43mExcelWriter\u001b[49m\u001b[43m(\u001b[49m\u001b[43moutput_excel\u001b[49m\u001b[43m,\u001b[49m\u001b[43m \u001b[49m\u001b[43mmode\u001b[49m\u001b[38;5;241;43m=\u001b[39;49m\u001b[38;5;124;43m'\u001b[39;49m\u001b[38;5;124;43ma\u001b[39;49m\u001b[38;5;124;43m'\u001b[39;49m\u001b[43m,\u001b[49m\u001b[43mengine\u001b[49m\u001b[38;5;241;43m=\u001b[39;49m\u001b[38;5;124;43m'\u001b[39;49m\u001b[38;5;124;43mopenpyxl\u001b[39;49m\u001b[38;5;124;43m'\u001b[39;49m\u001b[43m,\u001b[49m\u001b[43mif_sheet_exists\u001b[49m\u001b[38;5;241;43m=\u001b[39;49m\u001b[38;5;124;43m'\u001b[39;49m\u001b[38;5;124;43mreplace\u001b[39;49m\u001b[38;5;124;43m'\u001b[39;49m\u001b[43m)\u001b[49m\n\u001b[0;32m     11\u001b[0m \u001b[38;5;66;03m# 保存至excel\u001b[39;00m\n\u001b[0;32m     12\u001b[0m df_acrcy_list\u001b[38;5;241m.\u001b[39mto_excel(excel_writer, sheet_name\u001b[38;5;241m=\u001b[39mnew_sheet_name)\n",
      "File \u001b[1;32m~\\AppData\\Local\\Packages\\PythonSoftwareFoundation.Python.3.11_qbz5n2kfra8p0\\LocalCache\\local-packages\\Python311\\site-packages\\pandas\\io\\excel\\_openpyxl.py:61\u001b[0m, in \u001b[0;36mOpenpyxlWriter.__init__\u001b[1;34m(self, path, engine, date_format, datetime_format, mode, storage_options, if_sheet_exists, engine_kwargs, **kwargs)\u001b[0m\n\u001b[0;32m     57\u001b[0m \u001b[38;5;28;01mfrom\u001b[39;00m \u001b[38;5;21;01mopenpyxl\u001b[39;00m\u001b[38;5;21;01m.\u001b[39;00m\u001b[38;5;21;01mworkbook\u001b[39;00m \u001b[38;5;28;01mimport\u001b[39;00m Workbook\n\u001b[0;32m     59\u001b[0m engine_kwargs \u001b[38;5;241m=\u001b[39m combine_kwargs(engine_kwargs, kwargs)\n\u001b[1;32m---> 61\u001b[0m \u001b[38;5;28;43msuper\u001b[39;49m\u001b[43m(\u001b[49m\u001b[43m)\u001b[49m\u001b[38;5;241;43m.\u001b[39;49m\u001b[38;5;21;43m__init__\u001b[39;49m\u001b[43m(\u001b[49m\n\u001b[0;32m     62\u001b[0m \u001b[43m    \u001b[49m\u001b[43mpath\u001b[49m\u001b[43m,\u001b[49m\n\u001b[0;32m     63\u001b[0m \u001b[43m    \u001b[49m\u001b[43mmode\u001b[49m\u001b[38;5;241;43m=\u001b[39;49m\u001b[43mmode\u001b[49m\u001b[43m,\u001b[49m\n\u001b[0;32m     64\u001b[0m \u001b[43m    \u001b[49m\u001b[43mstorage_options\u001b[49m\u001b[38;5;241;43m=\u001b[39;49m\u001b[43mstorage_options\u001b[49m\u001b[43m,\u001b[49m\n\u001b[0;32m     65\u001b[0m \u001b[43m    \u001b[49m\u001b[43mif_sheet_exists\u001b[49m\u001b[38;5;241;43m=\u001b[39;49m\u001b[43mif_sheet_exists\u001b[49m\u001b[43m,\u001b[49m\n\u001b[0;32m     66\u001b[0m \u001b[43m    \u001b[49m\u001b[43mengine_kwargs\u001b[49m\u001b[38;5;241;43m=\u001b[39;49m\u001b[43mengine_kwargs\u001b[49m\u001b[43m,\u001b[49m\n\u001b[0;32m     67\u001b[0m \u001b[43m\u001b[49m\u001b[43m)\u001b[49m\n\u001b[0;32m     69\u001b[0m \u001b[38;5;66;03m# ExcelWriter replaced \"a\" by \"r+\" to allow us to first read the excel file from\u001b[39;00m\n\u001b[0;32m     70\u001b[0m \u001b[38;5;66;03m# the file and later write to it\u001b[39;00m\n\u001b[0;32m     71\u001b[0m \u001b[38;5;28;01mif\u001b[39;00m \u001b[38;5;124m\"\u001b[39m\u001b[38;5;124mr+\u001b[39m\u001b[38;5;124m\"\u001b[39m \u001b[38;5;129;01min\u001b[39;00m \u001b[38;5;28mself\u001b[39m\u001b[38;5;241m.\u001b[39m_mode:  \u001b[38;5;66;03m# Load from existing workbook\u001b[39;00m\n",
      "File \u001b[1;32m~\\AppData\\Local\\Packages\\PythonSoftwareFoundation.Python.3.11_qbz5n2kfra8p0\\LocalCache\\local-packages\\Python311\\site-packages\\pandas\\io\\excel\\_base.py:1246\u001b[0m, in \u001b[0;36mExcelWriter.__init__\u001b[1;34m(self, path, engine, date_format, datetime_format, mode, storage_options, if_sheet_exists, engine_kwargs)\u001b[0m\n\u001b[0;32m   1242\u001b[0m \u001b[38;5;28mself\u001b[39m\u001b[38;5;241m.\u001b[39m_handles \u001b[38;5;241m=\u001b[39m IOHandles(\n\u001b[0;32m   1243\u001b[0m     cast(IO[\u001b[38;5;28mbytes\u001b[39m], path), compression\u001b[38;5;241m=\u001b[39m{\u001b[38;5;124m\"\u001b[39m\u001b[38;5;124mcompression\u001b[39m\u001b[38;5;124m\"\u001b[39m: \u001b[38;5;28;01mNone\u001b[39;00m}\n\u001b[0;32m   1244\u001b[0m )\n\u001b[0;32m   1245\u001b[0m \u001b[38;5;28;01mif\u001b[39;00m \u001b[38;5;129;01mnot\u001b[39;00m \u001b[38;5;28misinstance\u001b[39m(path, ExcelWriter):\n\u001b[1;32m-> 1246\u001b[0m     \u001b[38;5;28mself\u001b[39m\u001b[38;5;241m.\u001b[39m_handles \u001b[38;5;241m=\u001b[39m \u001b[43mget_handle\u001b[49m\u001b[43m(\u001b[49m\n\u001b[0;32m   1247\u001b[0m \u001b[43m        \u001b[49m\u001b[43mpath\u001b[49m\u001b[43m,\u001b[49m\u001b[43m \u001b[49m\u001b[43mmode\u001b[49m\u001b[43m,\u001b[49m\u001b[43m \u001b[49m\u001b[43mstorage_options\u001b[49m\u001b[38;5;241;43m=\u001b[39;49m\u001b[43mstorage_options\u001b[49m\u001b[43m,\u001b[49m\u001b[43m \u001b[49m\u001b[43mis_text\u001b[49m\u001b[38;5;241;43m=\u001b[39;49m\u001b[38;5;28;43;01mFalse\u001b[39;49;00m\n\u001b[0;32m   1248\u001b[0m \u001b[43m    \u001b[49m\u001b[43m)\u001b[49m\n\u001b[0;32m   1249\u001b[0m \u001b[38;5;28mself\u001b[39m\u001b[38;5;241m.\u001b[39m_cur_sheet \u001b[38;5;241m=\u001b[39m \u001b[38;5;28;01mNone\u001b[39;00m\n\u001b[0;32m   1251\u001b[0m \u001b[38;5;28;01mif\u001b[39;00m date_format \u001b[38;5;129;01mis\u001b[39;00m \u001b[38;5;28;01mNone\u001b[39;00m:\n",
      "File \u001b[1;32m~\\AppData\\Local\\Packages\\PythonSoftwareFoundation.Python.3.11_qbz5n2kfra8p0\\LocalCache\\local-packages\\Python311\\site-packages\\pandas\\io\\common.py:882\u001b[0m, in \u001b[0;36mget_handle\u001b[1;34m(path_or_buf, mode, encoding, compression, memory_map, is_text, errors, storage_options)\u001b[0m\n\u001b[0;32m    873\u001b[0m         handle \u001b[38;5;241m=\u001b[39m \u001b[38;5;28mopen\u001b[39m(\n\u001b[0;32m    874\u001b[0m             handle,\n\u001b[0;32m    875\u001b[0m             ioargs\u001b[38;5;241m.\u001b[39mmode,\n\u001b[1;32m   (...)\u001b[0m\n\u001b[0;32m    878\u001b[0m             newline\u001b[38;5;241m=\u001b[39m\u001b[38;5;124m\"\u001b[39m\u001b[38;5;124m\"\u001b[39m,\n\u001b[0;32m    879\u001b[0m         )\n\u001b[0;32m    880\u001b[0m     \u001b[38;5;28;01melse\u001b[39;00m:\n\u001b[0;32m    881\u001b[0m         \u001b[38;5;66;03m# Binary mode\u001b[39;00m\n\u001b[1;32m--> 882\u001b[0m         handle \u001b[38;5;241m=\u001b[39m \u001b[38;5;28;43mopen\u001b[39;49m\u001b[43m(\u001b[49m\u001b[43mhandle\u001b[49m\u001b[43m,\u001b[49m\u001b[43m \u001b[49m\u001b[43mioargs\u001b[49m\u001b[38;5;241;43m.\u001b[39;49m\u001b[43mmode\u001b[49m\u001b[43m)\u001b[49m\n\u001b[0;32m    883\u001b[0m     handles\u001b[38;5;241m.\u001b[39mappend(handle)\n\u001b[0;32m    885\u001b[0m \u001b[38;5;66;03m# Convert BytesIO or file objects passed with an encoding\u001b[39;00m\n",
      "\u001b[1;31mFileNotFoundError\u001b[0m: [Errno 2] No such file or directory: 'output/Acc_state.xlsx'"
     ]
    }
   ],
   "source": [
    "output_excel = 'output/Acc_'+condition+'.xlsx'\n",
    "# df=pd.DataFrame() #构造原始数据文件\n",
    "# df.to_excel(output_excel)\n",
    "\n",
    "# 创建一个新的工作表，命名为：场景+对象类型+频段\n",
    "new_sheet_name = subc+'-'+freq_all[freq] \n",
    "# # 比较各个分支的结果\n",
    "# new_sheet_name = itype+'-'+corr_type\n",
    "excel_writer = pd.ExcelWriter(output_excel, mode='a',engine='openpyxl',if_sheet_exists='replace')\n",
    "\n",
    "# 保存至excel\n",
    "df_acrcy_list.to_excel(excel_writer, sheet_name=new_sheet_name)\n",
    "excel_writer._save()"
   ]
  },
  {
   "cell_type": "code",
   "execution_count": null,
   "metadata": {},
   "outputs": [],
   "source": []
  }
 ],
 "metadata": {
  "kernelspec": {
   "display_name": "Python 3",
   "language": "python",
   "name": "python3"
  },
  "language_info": {
   "codemirror_mode": {
    "name": "ipython",
    "version": 3
   },
   "file_extension": ".py",
   "mimetype": "text/x-python",
   "name": "python",
   "nbconvert_exporter": "python",
   "pygments_lexer": "ipython3",
   "version": "3.11.9"
  }
 },
 "nbformat": 4,
 "nbformat_minor": 2
}
