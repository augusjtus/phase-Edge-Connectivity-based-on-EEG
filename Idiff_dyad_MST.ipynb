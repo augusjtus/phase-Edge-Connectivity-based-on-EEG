{
 "cells": [
  {
   "cell_type": "code",
   "execution_count": 43,
   "metadata": {},
   "outputs": [],
   "source": [
    "import numpy as np\n",
    "import scipy.signal as signal\n",
    "import os\n",
    "import scipy.io as scio\n",
    "import pandas as pd\n",
    "\n",
    "import MST_Graph\n",
    "import VeFC_mst\n",
    "\n",
    "import VeFC_ex2fd as cal_VeFC\n",
    "import VnFC_ex2fd as cal_VFC\n",
    "import Idiff"
   ]
  },
  {
   "cell_type": "markdown",
   "metadata": {},
   "source": [
    "### 输入输出和参数设置"
   ]
  },
  {
   "cell_type": "markdown",
   "metadata": {},
   "source": [
    "输入数据"
   ]
  },
  {
   "cell_type": "code",
   "execution_count": 26,
   "metadata": {},
   "outputs": [],
   "source": [
    "# 输入数据路径\n",
    "GROUP1_DATA2021_FOLDER = 'data2021/Class1-Parent'#亲子组\n",
    "GROUP2_DATA2021_FOLDER = 'data2021/Class2-Stranger'#陌生人组\n",
    "GROUP1_DATA2023_FOLDER = 'data2023/Class1-Parent'#亲子组\n",
    "GROUP2_DATA2023_FOLDER = 'data2023/Class2-Stranger'#陌生人组\n",
    "GROUP1_DATAALL_FOLDER = 'data_all/Class1-Parent'#亲子组\n",
    "GROUP2_DATAALL_FOLDER = 'data_all/Class2-Stranger'#陌生人组\n",
    "\n",
    "# 输入数据结构：\n",
    "# 每个数据文件包含6种拼图场景，其中前面的1/2表示儿童拼或者成人拼，\n",
    "# 后面的1/2/3表示单独/陪伴/合作,只关注3（合作）\n",
    "sit_c1 = 'ca11' #儿童拼-单独\n",
    "sit_a1 = 'ca21' #成人拼-单独\n",
    "sit_c2 = 'ca12' #儿童拼-陪伴\n",
    "sit_a2 = 'ca22' #成人拼-陪伴\n",
    "sit_c3 = 'ca13' #儿童拼-合作\n",
    "sit_a3 = 'ca23' #成人拼-合作\n",
    "# 每种情况包含4个cell文件，分别对应4个频段：1-3，3-6，6-9，9-12\n",
    "delta,theta,alpha,belta=0,1,2,3\n",
    "freq_all=['delta','theta','alpha','belta']\n",
    "# 每个cell文件的格式为通道数*时间点数*被试数\n",
    "# 通道数: 其中1-28为儿童，29-56为成人，通过subc选择类型\n",
    "# 28个通道及其对应的索引为：\n",
    "channame_full = ['Fp1','Fp2','Fz','F3','F4','F7','F8','FC1','FC2','FC5','FC6','Cz','C3','C4','T7','T8','CP1','CP2','CP5','CP6','Pz','P3','P4','P7','P8','Oz','O1','O2']\n",
    "id_chan_all = list(range(0,28))\n",
    "# 26个通道及其对应的索引为：\n",
    "channame_test = ['Fp1','Fp2','Fz','F3','F4','F7','F8','FC1','FC2','FC5','FC6','Cz','C3','C4','CP1','CP2','CP5','CP6','Pz','P3','P4','P7','P8','Oz','O1','O2']\n",
    "id_chan_test = [ 0,  1,  2,  3,  4,  5,  6,  7,  8,  9, 10, 11, 12, 13, 16, 17,\n",
    "        18, 19, 20, 21, 22, 23, 24, 25, 26, 27]"
   ]
  },
  {
   "cell_type": "markdown",
   "metadata": {},
   "source": [
    "输出文件"
   ]
  },
  {
   "cell_type": "code",
   "execution_count": 37,
   "metadata": {},
   "outputs": [],
   "source": [
    "# 输出数据所要导出到的Excel文件\n",
    "output_excel='output/Diff_dyad_mst_all.xlsx'\n",
    "# df=pd.DataFrame() #构造原始数据文件\n",
    "# df.to_excel(output_excel)"
   ]
  },
  {
   "cell_type": "markdown",
   "metadata": {},
   "source": [
    "参数设置"
   ]
  },
  {
   "cell_type": "code",
   "execution_count": 64,
   "metadata": {},
   "outputs": [],
   "source": [
    "# 参数设置\n",
    "chan_num = 28 #通道数\n",
    "edge_num = int(chan_num*(chan_num-1)/2) #边数\n",
    "Nuptran_indices = cal_VeFC.uptran_mask(chan_num) #矩阵上三角列向量的位置\n",
    "Euptran_indices = cal_VeFC.uptran_mask(edge_num) #矩阵上三角列向量的位置\n",
    "Vtype='uptran'\n",
    "\n",
    "# itype指边连接强度的计算方式，'p','c','d'分别代表：PLV复指数、corr相关、delta做差\n",
    "itype_all=['e','c','d']\n",
    "itype=itype_all[0]\n",
    "# corr_type指边与边之间共波动特性的计算方式，'cos','pearson','delta'分别代表：\n",
    "# 余弦相似度，皮尔逊相关系数，直接做差\n",
    "corr_type_all=['cos','pearson','delta']\n",
    "corr_type=corr_type_all[0]\n",
    "\n",
    "tp=2000\n",
    "\n",
    "sit=sit_a3 #拼图场景\n",
    "freq=theta #频段\n",
    "subc='adult'  #对象类型 "
   ]
  },
  {
   "cell_type": "markdown",
   "metadata": {},
   "source": [
    "### 计算nFC方法的结果，用以比较"
   ]
  },
  {
   "cell_type": "code",
   "execution_count": 65,
   "metadata": {},
   "outputs": [
    {
     "name": "stdout",
     "output_type": "stream",
     "text": [
      "8.63 0.72 0.63\n"
     ]
    }
   ],
   "source": [
    "# 函数cal_Iden对结果进行验证\n",
    "# 比较eFC矩阵对于某种模态mode的识别能力\n",
    "# 将所有模态对应的index拼接在一起\n",
    "dyad_all1 = Idiff.file_path_infd(GROUP1_DATAALL_FOLDER)\n",
    "\n",
    "# eFC矩阵向量化的结果记为VeFC\n",
    "i=0\n",
    "VnFC_mode=[]\n",
    "trn_mode=[] #每种模态trail的数目\n",
    "\n",
    "for dyad in dyad_all1:\n",
    "    # 导入mat数据\n",
    "    data_mat = scio.loadmat(dyad)\n",
    "    # data_mat的格式为情况*1*频段\n",
    "    # 选择目标模态对应的数据，ts的格式为被试数*时间点数*通道数\n",
    "    ts = data_mat[sit][0][freq].T\n",
    "    # 时间点选择\n",
    "    ts = ts[:,0:tp,:]\n",
    "    # 群体subc选择\n",
    "    if subc=='child': # 如果subject的类型为 child\n",
    "        ts_subc = ts[:,:,0:28]\n",
    "    elif subc=='adult': # 如果subject的类型为 adult\n",
    "        ts_subc = ts[:,:,28:56]\n",
    "    # 计算eFC的向量形式\n",
    "    if Vtype=='all': #eFC列向量VeFC\n",
    "        VnFC_file = cal_VFC.VnFC_all(ts_subc,itype)\n",
    "    elif Vtype=='uptran': #eFC上三角列向量VeFC_uptran\n",
    "        VnFC_file = cal_VFC.VnFC_upt(ts_subc,Nuptran_indices,itype)\n",
    "    # 拼接同一个mode对应的所有文件中的eFC上三角列向量\n",
    "    # 结果的维度为列向量长度*总的被试数\n",
    "    trn_mdi=VnFC_file.shape[1]\n",
    "    if i==0:\n",
    "        VnFC_mode=VnFC_file\n",
    "        trn_mode=trn_mdi\n",
    "        i=1\n",
    "    else:\n",
    "        VnFC_mode=np.c_[VnFC_mode,VnFC_file]\n",
    "        trn_mode=np.c_[trn_mode,trn_mdi]\n",
    "\n",
    "I_diff,I_self,I_other,I_self_mean,per_change,per_diff=Idiff.cal_Iden(VnFC_mode,trn_mode,'pearsonr')\n",
    "print('%.2f'%I_diff,'%.2f'%I_self_mean,'%.2f'%I_other)\n",
    "# 保留两位小数并记录数据\n",
    "I_concat = [I_diff,I_self_mean,I_other,per_change,per_diff]\n",
    "I_nFC = np.around(I_concat,2)"
   ]
  },
  {
   "cell_type": "markdown",
   "metadata": {},
   "source": [
    "### 方法：使用最小生成树MST对VeFC序列矩阵降维"
   ]
  },
  {
   "cell_type": "markdown",
   "metadata": {},
   "source": [
    "参考：\n",
    "\n",
    "https://cloud.tencent.com/developer/article/2353167\n",
    "\n",
    "https://cloud.tencent.com/developer/article/2354144\n",
    "\n",
    "https://blog.csdn.net/chandelierds/article/details/91357784"
   ]
  },
  {
   "cell_type": "markdown",
   "metadata": {},
   "source": [
    "#### 1、计算出所有eFC矩阵的均值矩阵eFC_mean_all"
   ]
  },
  {
   "cell_type": "code",
   "execution_count": 66,
   "metadata": {},
   "outputs": [],
   "source": [
    "dyad_all = Idiff.file_path_infd(GROUP1_DATAALL_FOLDER)\n",
    "eFC_mean_all = VeFC_mst.eFC_all_mean(dyad_all,sit,freq,subc,corr_type,tp)"
   ]
  },
  {
   "cell_type": "code",
   "execution_count": 67,
   "metadata": {},
   "outputs": [],
   "source": [
    "# 取绝对值\n",
    "eFC_mean_abs = np.abs(eFC_mean_all)\n",
    "# 取1-原值：原值越大则1-原值越小，用于之后的最小生成树MST\n",
    "eFC_abs_inv = 1-eFC_mean_abs"
   ]
  },
  {
   "cell_type": "markdown",
   "metadata": {},
   "source": [
    "#### 2、根据均值矩阵eFC_mean_all计算最小生成树MST对应的矩阵编号edge_mst_idx"
   ]
  },
  {
   "cell_type": "code",
   "execution_count": 68,
   "metadata": {},
   "outputs": [],
   "source": [
    "edge_list1,edge_list2=[],[]\n",
    "for edge1 in range(1,edge_num):\n",
    "    for edge2 in range(edge1):\n",
    "        # 边列表1，2\n",
    "        edge_list1 = np.append(edge_list1,edge1)\n",
    "        edge_list2 = np.append(edge_list2,edge2)"
   ]
  },
  {
   "cell_type": "code",
   "execution_count": 69,
   "metadata": {},
   "outputs": [],
   "source": [
    "eFC_Graph = MST_Graph.Graph()\n",
    "for i in range(edge_list1.shape[0]):\n",
    "    e1,e2=edge_list1[i],edge_list2[i]\n",
    "    e1,e2=int(e1),int(e2)\n",
    "    eFC_Graph.add_edge(e1,e2,-eFC_mean_abs[e1,e2])"
   ]
  },
  {
   "cell_type": "code",
   "execution_count": 70,
   "metadata": {},
   "outputs": [],
   "source": [
    "edge_mst_list = eFC_Graph.prim()\n",
    "edge_mst_ary = np.array(edge_mst_list)[:]\n",
    "edge_mst_idx = edge_mst_ary[:,:2]"
   ]
  },
  {
   "cell_type": "markdown",
   "metadata": {},
   "source": [
    "#### 3、计算MST降维后的eFC向量汇总矩阵VeFC_mst_alld"
   ]
  },
  {
   "cell_type": "code",
   "execution_count": 71,
   "metadata": {},
   "outputs": [],
   "source": [
    "VeFC_mst_alld = VeFC_mst.VeFC_mst_all(dyad_all1,sit,freq,subc,corr_type,tp,\n",
    "                             edge_mst_idx)"
   ]
  },
  {
   "cell_type": "code",
   "execution_count": 72,
   "metadata": {},
   "outputs": [
    {
     "name": "stdout",
     "output_type": "stream",
     "text": [
      "36.69 0.69 0.32\n"
     ]
    }
   ],
   "source": [
    "I_diff,I_self,I_other,I_self_mean,per_change,per_diff=Idiff.cal_Iden(VeFC_mst_alld,trn_mode,'pearsonr')\n",
    "print('%.2f'%I_diff,'%.2f'%I_self_mean,'%.2f'%I_other)\n",
    "# 保留两位小数并记录数据\n",
    "I_concat = [I_diff,I_self_mean,I_other,per_change,per_diff]\n",
    "I_eFC_mst = np.around(I_concat,2)"
   ]
  },
  {
   "cell_type": "markdown",
   "metadata": {},
   "source": [
    "### 导出结果至excel文件"
   ]
  },
  {
   "cell_type": "code",
   "execution_count": 73,
   "metadata": {},
   "outputs": [],
   "source": [
    "# 创建一个新的工作表，命名为：场景+对象类型+频段\n",
    "new_sheet_name = sit+'-'+subc+'-'+freq_all[freq] \n",
    "# # 比较各个分支的结果\n",
    "# new_sheet_name = itype+'-'+corr_type\n",
    "excel_writer = pd.ExcelWriter(output_excel, mode='a',engine='openpyxl')"
   ]
  },
  {
   "cell_type": "code",
   "execution_count": 74,
   "metadata": {},
   "outputs": [
    {
     "name": "stderr",
     "output_type": "stream",
     "text": [
      "C:\\Users\\吴诚成\\AppData\\Local\\Temp\\ipykernel_19260\\147880195.py:13: FutureWarning: save is not part of the public API, usage can give unexpected results and will be removed in a future version\n",
      "  excel_writer.save()\n"
     ]
    }
   ],
   "source": [
    "# 拼接所有条件下的I_concat数据\n",
    "I_all = np.c_[I_eFC_mst,I_nFC]\n",
    "I_all = I_all.T\n",
    "\n",
    "# 转换为DataFrame格式\n",
    "df_Iall = pd.DataFrame(I_all)\n",
    "# 添加列名、索引\n",
    "df_Iall.columns=['I_diff','I_self','I_other','Change_rate','Diff_rate'] #设置列名\n",
    "df_Iall.index=['eFC','nFC']\n",
    "\n",
    "# 保存至excel\n",
    "df_Iall.to_excel(excel_writer, sheet_name=new_sheet_name)\n",
    "excel_writer.save()"
   ]
  }
 ],
 "metadata": {
  "kernelspec": {
   "display_name": "Python 3",
   "language": "python",
   "name": "python3"
  },
  "language_info": {
   "codemirror_mode": {
    "name": "ipython",
    "version": 3
   },
   "file_extension": ".py",
   "mimetype": "text/x-python",
   "name": "python",
   "nbconvert_exporter": "python",
   "pygments_lexer": "ipython3",
   "version": "3.11.2"
  }
 },
 "nbformat": 4,
 "nbformat_minor": 2
}
