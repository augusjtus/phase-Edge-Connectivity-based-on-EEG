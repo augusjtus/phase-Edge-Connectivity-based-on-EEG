{
 "cells": [
  {
   "cell_type": "code",
   "execution_count": 1,
   "id": "e6093e33",
   "metadata": {},
   "outputs": [],
   "source": [
    "import numpy as np\n",
    "import scipy.io as scio\n",
    "import pandas as pd\n",
    "\n",
    "from sklearn.cluster import KMeans\n",
    "from sklearn import metrics\n",
    "\n",
    "import VFC_dyad \n",
    "import VnFC_ex2fd as cal_VFC\n",
    "import Idiff\n",
    "import Idiff_bootstrap"
   ]
  },
  {
   "attachments": {},
   "cell_type": "markdown",
   "id": "0ae744e3",
   "metadata": {},
   "source": [
    "### 输入输出和参数设置"
   ]
  },
  {
   "attachments": {},
   "cell_type": "markdown",
   "id": "2eb7bb4e",
   "metadata": {},
   "source": [
    "输入数据"
   ]
  },
  {
   "cell_type": "code",
   "execution_count": 2,
   "id": "5aec4112",
   "metadata": {},
   "outputs": [],
   "source": [
    "# 输入数据路径\n",
    "GROUP1_DATA2021_FOLDER = 'data2021/Class1-Parent'#亲子组\n",
    "GROUP2_DATA2021_FOLDER = 'data2021/Class2-Stranger'#陌生人组\n",
    "GROUP1_DATA2023_FOLDER = 'data2023/Class1-Parent'#亲子组\n",
    "GROUP2_DATA2023_FOLDER = 'data2023/Class2-Stranger'#陌生人组\n",
    "GROUP1_DATAALL_FOLDER = 'data_all/Class1-Parent'#亲子组\n",
    "GROUP2_DATAALL_FOLDER = 'data_all/Class2-Stranger'#陌生人组\n",
    "\n",
    "# 输入数据结构：\n",
    "# 每个数据文件包含6种拼图场景，其中前面的1/2表示儿童拼或者成人拼，\n",
    "# 后面的1/2/3表示单独/陪伴/合作,只关注3（合作）\n",
    "sit_c1 = 'ca11' #儿童拼-单独\n",
    "sit_a1 = 'ca21' #成人拼-单独\n",
    "sit_c2 = 'ca12' #儿童拼-陪伴\n",
    "sit_a2 = 'ca22' #成人拼-陪伴\n",
    "sit_c3 = 'ca13' #儿童拼-合作\n",
    "sit_a3 = 'ca23' #成人拼-合作\n",
    "# 每种情况包含4个cell文件，分别对应4个频段：1-3，3-6，6-9，9-12\n",
    "delta,theta,alpha,belta=0,1,2,3\n",
    "freq_all=['delta','theta','alpha','belta']\n",
    "# 每个cell文件的格式为通道数*时间点数*被试数\n",
    "# 通道数: 其中1-28为儿童，29-56为成人，通过subc选择类型\n",
    "# 28个通道及其对应的索引为：\n",
    "channame_full = ['Fp1','Fp2','Fz','F3','F4','F7','F8','FC1','FC2','FC5','FC6','Cz','C3','C4','T7','T8','CP1','CP2','CP5','CP6','Pz','P3','P4','P7','P8','Oz','O1','O2']\n",
    "id_chan_all = list(range(0,28))\n",
    "# 26个通道及其对应的索引为：\n",
    "channame_test = ['Fp1','Fp2','Fz','F3','F4','F7','F8','FC1','FC2','FC5','FC6','Cz','C3','C4','CP1','CP2','CP5','CP6','Pz','P3','P4','P7','P8','Oz','O1','O2']\n",
    "id_chan_test = [ 0,  1,  2,  3,  4,  5,  6,  7,  8,  9, 10, 11, 12, 13, 16, 17,\n",
    "        18, 19, 20, 21, 22, 23, 24, 25, 26, 27]"
   ]
  },
  {
   "attachments": {},
   "cell_type": "markdown",
   "id": "b630651c",
   "metadata": {},
   "source": [
    "参数设置"
   ]
  },
  {
   "cell_type": "code",
   "execution_count": 3,
   "id": "3caa5d7c",
   "metadata": {},
   "outputs": [],
   "source": [
    "# 参数设置\n",
    "chan_num = 28 #通道数\n",
    "edge_num = int(chan_num*(chan_num-1)/2) #边数\n",
    "Nuptran_indices = VFC_dyad.uptran_mask(chan_num) #矩阵上三角列向量的位置\n",
    "Euptran_indices = VFC_dyad.uptran_mask(edge_num) #矩阵上三角列向量的位置\n",
    "Vtype='all'\n",
    "\n",
    "# itype指边连接强度的计算方式，'p','c','d'分别代表：PLV复指数、corr相关、delta做差\n",
    "itype_all=['e','c','d']\n",
    "itype=itype_all[0]\n",
    "# corr_type指边与边之间共波动特性的计算方式，'cos','pearson','delta'分别代表：\n",
    "# 余弦相似度，皮尔逊相关系数，直接做差\n",
    "corr_type_all=['cos','pearson','delta']\n",
    "corr_type=corr_type_all[0]\n",
    "\n",
    "tp=2000\n",
    "\n",
    "sit=sit_a3 #拼图场景\n",
    "freq=theta #频段\n",
    "subc='adult'  #对象类型 "
   ]
  },
  {
   "attachments": {},
   "cell_type": "markdown",
   "id": "0be14521",
   "metadata": {},
   "source": [
    "### 计算总体指标 Idiff_dyad"
   ]
  },
  {
   "attachments": {},
   "cell_type": "markdown",
   "id": "054e47c0",
   "metadata": {},
   "source": [
    "#### EFC矩阵对应的 Idiff_subj"
   ]
  },
  {
   "cell_type": "code",
   "execution_count": 4,
   "id": "bb62e3be",
   "metadata": {},
   "outputs": [
    {
     "name": "stdout",
     "output_type": "stream",
     "text": [
      "8.64 0.59 0.51\n"
     ]
    }
   ],
   "source": [
    "# 比较eFC矩阵对于某种模态mode的识别能力\n",
    "# 将所有模态对应的index拼接在一起\n",
    "dyad_all1 = Idiff.file_path_infd(GROUP1_DATAALL_FOLDER)\n",
    "VeFC_mode, trn_mode = VFC_dyad.VeFC_dyad_all(dyad_all1,sit,freq,subc,Vtype,Euptran_indices,corr_type,tp)\n",
    "\n",
    "dyad_prt = dyad_all1\n",
    "VeFC_prt = VeFC_mode\n",
    "trn_prt = trn_mode\n",
    "I_diff,I_self,I_other,I_self_mean,per_change,per_diff=Idiff.cal_Iden(VeFC_mode,trn_mode,'pearsonr')\n",
    "print('%.2f'%I_diff,'%.2f'%I_self_mean,'%.2f'%I_other)\n",
    "# 保留两位小数并记录数据\n",
    "I_concat = [I_diff,I_self_mean,I_other,per_change,per_diff]\n",
    "I_eFC1 = np.around(I_concat,2)"
   ]
  },
  {
   "attachments": {},
   "cell_type": "markdown",
   "id": "fb3596f8",
   "metadata": {},
   "source": [
    "计算聚类准确率"
   ]
  },
  {
   "cell_type": "code",
   "execution_count": 5,
   "id": "7f71c344",
   "metadata": {},
   "outputs": [
    {
     "name": "stdout",
     "output_type": "stream",
     "text": [
      "0.34 0.53 0.36\n"
     ]
    }
   ],
   "source": [
    "# 对Vefc向量做Kmeans，然后计算聚类准确率相关的指标\n",
    "def Kmeans_score(dyad,VeFC,trn):\n",
    "    # 做kmeans得到预测标签值\n",
    "    kmeans = KMeans(n_clusters=dyad.shape[0], random_state=0, n_init=10).fit(VeFC.T)\n",
    "\n",
    "# 拼接得到真实标签值\n",
    "    i=0\n",
    "    true_labels=[]\n",
    "    for i in range(dyad.shape[0]):\n",
    "        true_label=[i]*trn[0][i]\n",
    "        if i==0:\n",
    "            true_labels=true_label\n",
    "            i=1\n",
    "        else:\n",
    "            true_labels=np.r_[true_labels,true_label]\n",
    "    true_labels = np.array(true_labels) \n",
    "\n",
    "# 计算预测标签和真实标签吻合程度的评价指标\n",
    "    rand_score = metrics.adjusted_rand_score(true_labels, kmeans.labels_) #兰德系数 \n",
    "    mi_score = metrics.adjusted_mutual_info_score(true_labels, kmeans.labels_) #互信息指数\n",
    "    fm_score = metrics.fowlkes_mallows_score(true_labels, kmeans.labels_) #FM分数\n",
    "    print('%.2f'%rand_score,'%.2f'%mi_score,'%.2f'%fm_score)\n",
    "\n",
    "# 亲子组\n",
    "Kmeans_score(dyad=dyad_prt,VeFC=VeFC_prt,trn=trn_prt)\n",
    "# # 陌生人组\n",
    "# Kmeans_score(dyad=dyad_stg,VeFC=VeFC_stg,trn=trn_stg)"
   ]
  },
  {
   "attachments": {},
   "cell_type": "markdown",
   "id": "ab48a6ce",
   "metadata": {},
   "source": [
    "#### NFC矩阵对应的Idiff_subj"
   ]
  },
  {
   "cell_type": "code",
   "execution_count": 10,
   "id": "bef34845",
   "metadata": {},
   "outputs": [
    {
     "name": "stdout",
     "output_type": "stream",
     "text": [
      "6.47 0.79 0.73\n"
     ]
    }
   ],
   "source": [
    "# 比较eFC矩阵对于某种模态mode的识别能力\n",
    "# 将所有模态对应的index拼接在一起\n",
    "dyad_all1 = Idiff.file_path_infd(GROUP1_DATAALL_FOLDER)\n",
    "VnFC_mode, trn_mode = VFC_dyad.VnFC_dyad_all(dyad_all1,sit,freq,subc,Vtype,Nuptran_indices,tp)\n",
    "\n",
    "dyad_prt = dyad_all1\n",
    "VeFC_prt = VnFC_mode\n",
    "trn_prt = trn_mode\n",
    "I_diff,I_self,I_other,I_self_mean,per_change,per_diff=Idiff.cal_Iden(VnFC_mode,trn_mode,'pearsonr')\n",
    "print('%.2f'%I_diff,'%.2f'%I_self_mean,'%.2f'%I_other)\n",
    "# 保留两位小数并记录数据\n",
    "I_concat = [I_diff,I_self_mean,I_other,per_change,per_diff]\n",
    "I_nFC1 = np.around(I_concat,2)"
   ]
  },
  {
   "attachments": {},
   "cell_type": "markdown",
   "id": "9d9829ea",
   "metadata": {},
   "source": [
    "计算聚类准确率"
   ]
  },
  {
   "cell_type": "code",
   "execution_count": 7,
   "id": "34412b86",
   "metadata": {},
   "outputs": [
    {
     "name": "stdout",
     "output_type": "stream",
     "text": [
      "0.40 0.58 0.42\n"
     ]
    }
   ],
   "source": [
    "# 亲子组\n",
    "Kmeans_score(dyad=dyad_prt,VeFC=VeFC_prt,trn=trn_prt)\n",
    "# # 陌生人组\n",
    "# Kmeans_score(dyad=dyad_stg,VeFC=VeFC_stg,trn=trn_stg)"
   ]
  },
  {
   "cell_type": "markdown",
   "id": "2a35e5fe",
   "metadata": {},
   "source": [
    "#### 导出结果至excel文件"
   ]
  },
  {
   "cell_type": "code",
   "execution_count": 8,
   "id": "045c13c0",
   "metadata": {},
   "outputs": [],
   "source": [
    "# # 输出数据所要导出到的Excel文件\n",
    "# output_excel='output/Diff_dyad_all.xlsx'\n",
    "# # df=pd.DataFrame() #构造原始数据文件\n",
    "# # df.to_excel(output_excel)\n",
    "\n",
    "# # 创建一个新的工作表，命名为：场景+对象类型+频段\n",
    "# new_sheet_name = sit+'-'+subc+'-'+freq_all[freq] \n",
    "# # # 比较各个分支的结果\n",
    "# # new_sheet_name = itype+'-'+corr_type\n",
    "# excel_writer = pd.ExcelWriter(output_excel, mode='a',engine='openpyxl')\n",
    "# # 拼接所有条件下的I_concat数据\n",
    "# I_all = np.c_[I_eFC1,I_nFC1]\n",
    "# I_all = I_all.T\n",
    "\n",
    "# # 转换为DataFrame格式\n",
    "# df_Iall = pd.DataFrame(I_all)\n",
    "# df_Iall.columns=['I_diff','I_self','I_other','Change_rate','Diff_rate'] #设置列名\n",
    "# # 只比较亲子组\n",
    "# df_Iall.index=['eFC','nFC']\n",
    "# # # 两个组的比较\n",
    "# # df_Iall.index=['Group1-eFC','Group1-nFC','Group2-eFC','Group2-nFC'] #设置索引\n",
    "\n",
    "# # 保存至excel\n",
    "# df_Iall.to_excel(excel_writer, sheet_name=new_sheet_name)\n",
    "# excel_writer.save()"
   ]
  },
  {
   "cell_type": "markdown",
   "id": "10cb2a97",
   "metadata": {},
   "source": [
    "### 统计检验"
   ]
  },
  {
   "cell_type": "markdown",
   "id": "0196a8b0",
   "metadata": {},
   "source": [
    "#### Bootstrapping\n",
    "使用Bootstrapping方法进行重抽样：30% = 15组，1000次"
   ]
  },
  {
   "cell_type": "code",
   "execution_count": 9,
   "id": "54c810bd",
   "metadata": {},
   "outputs": [],
   "source": [
    "I_eFC_all,I_nFC_all = Idiff_bootstrap.Idiff_boot(res_time=1000,yita=0.3,VeFC_mode=VeFC_mode,VnFC_mode=VnFC_mode,\n",
    "         trn_mode=trn_mode)"
   ]
  },
  {
   "cell_type": "code",
   "execution_count": 10,
   "id": "8903a7e7",
   "metadata": {},
   "outputs": [],
   "source": [
    "# 转换为DataFrame格式\n",
    "I_eFC_allt=I_eFC_all.T\n",
    "df_eFC1 = pd.DataFrame(I_eFC_allt)\n",
    "# 添加列名和索引\n",
    "df_eFC1.columns=['I_diff','I_self','I_other','Change_rate','Diff_rate'] #设置列名\n",
    "\n",
    "# 转换为DataFrame格式\n",
    "I_nFC_allt=I_nFC_all.T\n",
    "df_nFC1 = pd.DataFrame(I_nFC_allt)\n",
    "# 添加列名和索引\n",
    "df_nFC1.columns=['I_diff','I_self','I_other','Change_rate','Diff_rate'] #设置列名"
   ]
  },
  {
   "cell_type": "markdown",
   "id": "6f32b9f2",
   "metadata": {},
   "source": [
    "##### 导出结果至excel文件"
   ]
  },
  {
   "cell_type": "code",
   "execution_count": 63,
   "id": "3bdade24",
   "metadata": {},
   "outputs": [
    {
     "data": {
      "text/plain": [
       "'df = pd.DataFrame({new_sheet_name: []})\\ndf.to_excel(excel_writer, sheet_name=new_sheet_name, index=False)\\nexcel_writer.save()'"
      ]
     },
     "execution_count": 63,
     "metadata": {},
     "output_type": "execute_result"
    }
   ],
   "source": [
    "output_excel_stats = 'output/Diff_dyad_boot_all.xlsx'\n",
    "# df=pd.DataFrame() #构造原始数据文件\n",
    "# df.to_excel(output_excel_stats)\n",
    "\n",
    "# 创建一个新的工作表，命名为：场景+对象类型+频段\n",
    "new_sheet_name = sit+'-'+subc+'-'+freq_all[freq] \n",
    "# # 比较各个分支的结果\n",
    "# new_sheet_name = itype+'-'+corr_type\n",
    "excel_writer = pd.ExcelWriter(output_excel_stats, mode='a',engine='openpyxl')\n",
    "'''df = pd.DataFrame({new_sheet_name: []})\n",
    "df.to_excel(excel_writer, sheet_name=new_sheet_name, index=False)\n",
    "excel_writer.save()'''\n",
    "# 亲子组1个组的拼接\n",
    "df_all = pd.concat([df_eFC1,df_nFC1],axis=1)\n",
    "\n",
    "# 保存至excel\n",
    "df_all.to_excel(excel_writer, sheet_name=new_sheet_name)\n",
    "excel_writer.save()"
   ]
  },
  {
   "cell_type": "markdown",
   "id": "7954469f",
   "metadata": {},
   "source": [
    "#### 两两比较\n",
    "不同dyad两两比较，可以理解为重抽样：2组，2000次"
   ]
  },
  {
   "cell_type": "code",
   "execution_count": 47,
   "id": "0e92917d",
   "metadata": {},
   "outputs": [
    {
     "data": {
      "text/plain": [
       "(142884, 26)"
      ]
     },
     "execution_count": 47,
     "metadata": {},
     "output_type": "execute_result"
    }
   ],
   "source": [
    "i,j=1,0\n",
    "# 二人组i,二人组j对应的trial数目\n",
    "trn_i = trn_prt[:,i]\n",
    "trn_j = trn_prt[:,j]\n",
    "# 二人组i,二人组j的trial在VFC序列中对应的前后索引位置\n",
    "pre_idx_i,post_idx_i=int(np.sum(trn_prt[:,:i])),int(np.sum(trn_prt[:,:i])+trn_i)\n",
    "pre_idx_j,post_idx_j=int(np.sum(trn_prt[:,:j])),int(np.sum(trn_prt[:,:j])+trn_j)\n",
    "VFC_mode_i = VeFC_mode[:,pre_idx_i:post_idx_i]\n",
    "VFC_mode_j = VeFC_mode[:,pre_idx_j:post_idx_j]\n",
    "\n",
    "trn_ij = np.c_[trn_i,trn_j]\n",
    "VFC_mode_ij = np.c_[VFC_mode_i,VFC_mode_j]\n",
    "VFC_mode_ij.shape"
   ]
  },
  {
   "cell_type": "code",
   "execution_count": 49,
   "id": "64aafdb5",
   "metadata": {},
   "outputs": [],
   "source": [
    "# dyad二人组数目\n",
    "dyad_num = trn_prt.shape[1]\n",
    "k=0\n",
    "\n",
    "for i in range(1,dyad_num):\n",
    "    for j in range(i):\n",
    "        # 二人组i,二人组j对应的trial数目\n",
    "        trn_i = trn_prt[:,i]\n",
    "        trn_j = trn_prt[:,j]\n",
    "        # 二人组i,二人组j的trial在VFC序列中对应的位置\n",
    "        # 前后索引\n",
    "        pre_idx_i,post_idx_i=int(np.sum(trn_prt[:,:i])),int(np.sum(trn_prt[:,:i])+trn_i)\n",
    "        pre_idx_j,post_idx_j=int(np.sum(trn_prt[:,:j])),int(np.sum(trn_prt[:,:j])+trn_j)\n",
    "        VFC_mode_i = VeFC_mode[:,pre_idx_i:post_idx_i]\n",
    "        VFC_mode_j = VeFC_mode[:,pre_idx_j:post_idx_j]\n",
    "        # 拼接二人组i,二人组j的trial数目、VFC序列\n",
    "        trn_ij = np.c_[trn_i,trn_j]\n",
    "        VFC_mode_ij = np.c_[VFC_mode_i,VFC_mode_j]\n",
    "        # 计算二人组i,二人组j的识别性指标I_diff\n",
    "        I_diff,I_self,I_other,I_self_mean,per_change,per_diff=Idiff.cal_Iden(VFC_mode_ij,trn_ij,'pearsonr')\n",
    "\n",
    "        # 保留两位小数并记录数据\n",
    "        I_concat = [I_diff,I_self_mean,I_other,per_change,per_diff]\n",
    "        I_eFC1 = np.around(I_concat,2)\n",
    "        # 将所有二人组对的指标拼接\n",
    "        if k==0:\n",
    "            I_eFC_all=I_eFC1\n",
    "            k=1\n",
    "        else:\n",
    "            I_eFC_all=np.c_[I_eFC_all,I_eFC1]\n",
    "            \n",
    "# 转换为DataFrame格式\n",
    "I_eFC_allt=I_eFC_all.T\n",
    "df_eFC1 = pd.DataFrame(I_eFC_allt)\n",
    "# 添加列名和索引\n",
    "df_eFC1.columns=['I_diff','I_self','I_other','Change_rate','Diff_rate'] #设置列名"
   ]
  },
  {
   "cell_type": "code",
   "execution_count": 55,
   "id": "24f2411c",
   "metadata": {},
   "outputs": [],
   "source": [
    "# dyad二人组数目\n",
    "dyad_num = trn_prt.shape[1]\n",
    "k=0\n",
    "\n",
    "for i in range(1,dyad_num):\n",
    "    for j in range(i):\n",
    "        # 二人组i,二人组j对应的trial数目\n",
    "        trn_i = trn_prt[:,i]\n",
    "        trn_j = trn_prt[:,j]\n",
    "        # 二人组i,二人组j的trial在VFC序列中对应的位置\n",
    "        # 前后索引\n",
    "        pre_idx_i,post_idx_i=int(np.sum(trn_prt[:,:i])),int(np.sum(trn_prt[:,:i])+trn_i)\n",
    "        pre_idx_j,post_idx_j=int(np.sum(trn_prt[:,:j])),int(np.sum(trn_prt[:,:j])+trn_j)\n",
    "        VFC_mode_i = VnFC_mode[:,pre_idx_i:post_idx_i]\n",
    "        VFC_mode_j = VnFC_mode[:,pre_idx_j:post_idx_j]\n",
    "        # 拼接二人组i,二人组j的trial数目、VFC序列\n",
    "        trn_ij = np.c_[trn_i,trn_j]\n",
    "        VFC_mode_ij = np.c_[VFC_mode_i,VFC_mode_j]\n",
    "        # 计算二人组i,二人组j的识别性指标I_diff\n",
    "        I_diff,I_self,I_other,I_self_mean,per_change,per_diff=Idiff.cal_Iden(VFC_mode_ij,trn_ij,'pearsonr')\n",
    "\n",
    "        # 保留两位小数并记录数据\n",
    "        I_concat = [I_diff,I_self_mean,I_other,per_change,per_diff]\n",
    "        I_nFC1 = np.around(I_concat,2)\n",
    "        # 拼接\n",
    "        if k==0:\n",
    "            I_nFC_all=I_nFC1\n",
    "            k=1\n",
    "        else:\n",
    "            I_nFC_all=np.c_[I_nFC_all,I_nFC1]\n",
    "\n",
    "# 转换为DataFrame格式\n",
    "I_nFC_allt=I_nFC_all.T\n",
    "df_nFC1 = pd.DataFrame(I_nFC_allt)\n",
    "# 添加列名和索引\n",
    "df_nFC1.columns=['I_diff','I_self','I_other','Change_rate','Diff_rate'] #设置列名"
   ]
  },
  {
   "cell_type": "markdown",
   "id": "ee11d3f8",
   "metadata": {},
   "source": [
    "##### 导出结果至excel文件"
   ]
  },
  {
   "cell_type": "code",
   "execution_count": 60,
   "id": "11f2c58f",
   "metadata": {},
   "outputs": [
    {
     "data": {
      "text/plain": [
       "'df = pd.DataFrame({new_sheet_name: []})\\ndf.to_excel(excel_writer, sheet_name=new_sheet_name, index=False)\\nexcel_writer.save()'"
      ]
     },
     "execution_count": 60,
     "metadata": {},
     "output_type": "execute_result"
    }
   ],
   "source": [
    "output_excel_stats = 'output/Diff_dyad_btw2_all.xlsx'\n",
    "# df=pd.DataFrame() #构造原始数据文件\n",
    "# df.to_excel(output_excel_stats)\n",
    "\n",
    "# 创建一个新的工作表，命名为：场景+对象类型+频段\n",
    "new_sheet_name = sit+'-'+subc+'-'+freq_all[freq] \n",
    "# # 比较各个分支的结果\n",
    "# new_sheet_name = itype+'-'+corr_type\n",
    "excel_writer = pd.ExcelWriter(output_excel_stats, mode='a',engine='openpyxl')\n",
    "'''df = pd.DataFrame({new_sheet_name: []})\n",
    "df.to_excel(excel_writer, sheet_name=new_sheet_name, index=False)\n",
    "excel_writer.save()'''"
   ]
  },
  {
   "cell_type": "code",
   "execution_count": 61,
   "id": "655604b8",
   "metadata": {},
   "outputs": [
    {
     "name": "stderr",
     "output_type": "stream",
     "text": [
      "C:\\Users\\吴诚成\\AppData\\Local\\Temp\\ipykernel_12924\\1829889429.py:6: FutureWarning: save is not part of the public API, usage can give unexpected results and will be removed in a future version\n",
      "  excel_writer.save()\n"
     ]
    }
   ],
   "source": [
    "# 亲子组1个组的拼接\n",
    "df_all = pd.concat([df_eFC1,df_nFC1],axis=1)\n",
    "\n",
    "# 保存至excel\n",
    "df_all.to_excel(excel_writer, sheet_name=new_sheet_name)\n",
    "excel_writer.save()"
   ]
  }
 ],
 "metadata": {
  "kernelspec": {
   "display_name": "Python 3 (ipykernel)",
   "language": "python",
   "name": "python3"
  },
  "language_info": {
   "codemirror_mode": {
    "name": "ipython",
    "version": 3
   },
   "file_extension": ".py",
   "mimetype": "text/x-python",
   "name": "python",
   "nbconvert_exporter": "python",
   "pygments_lexer": "ipython3",
   "version": "3.11.2"
  },
  "vscode": {
   "interpreter": {
    "hash": "91bb753b057673435fb8d6f6a083e6c818364728098c7ae050ca3a25357dd754"
   }
  }
 },
 "nbformat": 4,
 "nbformat_minor": 5
}
