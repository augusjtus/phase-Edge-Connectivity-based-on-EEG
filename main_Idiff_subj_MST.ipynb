{
 "cells": [
  {
   "cell_type": "code",
   "execution_count": 1,
   "metadata": {},
   "outputs": [],
   "source": [
    "import numpy as np\n",
    "import scipy.io as scio\n",
    "import pandas as pd\n",
    "\n",
    "import VFC_dyad\n",
    "import Idiff\n",
    "\n",
    "import classification_accuracy"
   ]
  },
  {
   "cell_type": "markdown",
   "metadata": {},
   "source": [
    "### 输入输出和参数设置"
   ]
  },
  {
   "cell_type": "markdown",
   "metadata": {},
   "source": [
    "输入数据"
   ]
  },
  {
   "cell_type": "code",
   "execution_count": 2,
   "metadata": {},
   "outputs": [],
   "source": [
    "# 输入数据路径\n",
    "GROUP1_DATA2021_FOLDER = 'data2021/Class1-Parent'#亲子组\n",
    "GROUP2_DATA2021_FOLDER = 'data2021/Class2-Stranger'#陌生人组\n",
    "GROUP1_DATA2023_FOLDER = 'data2023/Class1-Parent'#亲子组\n",
    "GROUP2_DATA2023_FOLDER = 'data2023/Class2-Stranger'#陌生人组\n",
    "GROUP1_DATAALL_FOLDER = 'data_all/Class1-Parent'#亲子组\n",
    "GROUP2_DATAALL_FOLDER = 'data_all/Class2-Stranger'#陌生人组\n",
    "\n",
    "# 输入数据结构：\n",
    "# 每个数据文件包含6种拼图场景，其中前面的1/2表示儿童拼或者成人拼，\n",
    "# 后面的1/2/3表示单独/陪伴/合作,只关注3（合作）\n",
    "sit_c1 = 'ca11' #儿童拼-单独\n",
    "sit_a1 = 'ca21' #成人拼-单独\n",
    "sit_c2 = 'ca12' #儿童拼-陪伴\n",
    "sit_a2 = 'ca22' #成人拼-陪伴\n",
    "sit_c3 = 'ca13' #儿童拼-合作\n",
    "sit_a3 = 'ca23' #成人拼-合作\n",
    "# 每种情况包含4个cell文件，分别对应4个频段：1-3，3-6，6-9，9-12\n",
    "delta,theta,alpha,belta=0,1,2,3\n",
    "freq_all=['delta','theta','alpha','belta']\n",
    "# 每个cell文件的格式为通道数*时间点数*被试数\n",
    "# 通道数: 其中1-28为儿童，29-56为成人，通过subc选择类型\n",
    "# 28个通道及其对应的索引为：\n",
    "channame_full = ['Fp1','Fp2','Fz','F3','F4','F7','F8','FC1','FC2','FC5','FC6','Cz','C3','C4','T7','T8','CP1','CP2','CP5','CP6','Pz','P3','P4','P7','P8','Oz','O1','O2']\n",
    "id_chan_all = list(range(0,28))\n",
    "# 26个通道及其对应的索引为：\n",
    "channame_test = ['Fp1','Fp2','Fz','F3','F4','F7','F8','FC1','FC2','FC5','FC6','Cz','C3','C4','CP1','CP2','CP5','CP6','Pz','P3','P4','P7','P8','Oz','O1','O2']\n",
    "id_chan_test = [ 0,  1,  2,  3,  4,  5,  6,  7,  8,  9, 10, 11, 12, 13, 16, 17,\n",
    "        18, 19, 20, 21, 22, 23, 24, 25, 26, 27]"
   ]
  },
  {
   "cell_type": "markdown",
   "metadata": {},
   "source": [
    "参数设置"
   ]
  },
  {
   "cell_type": "code",
   "execution_count": 3,
   "metadata": {},
   "outputs": [],
   "source": [
    "# 参数设置\n",
    "chan_num = 28 #通道数\n",
    "edge_num = int(chan_num*(chan_num-1)/2) #边数\n",
    "Nuptran_indices = VFC_dyad.uptran_mask(chan_num) #矩阵上三角列向量的位置\n",
    "Euptran_indices = VFC_dyad.uptran_mask(edge_num) #矩阵上三角列向量的位置\n",
    "Vtype='uptran'\n",
    "\n",
    "# itype指边连接强度的计算方式，'p','c','d'分别代表：PLV复指数、corr相关、delta做差\n",
    "itype_all=['e','c','d']\n",
    "itype=itype_all[0]\n",
    "# corr_type指边与边之间共波动特性的计算方式，'cos','pearson','delta'分别代表：\n",
    "# 余弦相似度，皮尔逊相关系数，直接做差\n",
    "corr_type_all=['cos','pearson','delta']\n",
    "corr_type=corr_type_all[0]\n",
    "\n",
    "tp=2000\n",
    "\n",
    "sit=sit_c3 #拼图场景\n",
    "freq=theta #频段\n",
    "subc='child'  #对象类型 \n",
    "\n",
    "dim_idx = [chan_num//2, chan_num, edge_num//2, edge_num]\n",
    "# 所有亲子二人组dyad的文件路径\n",
    "dyad_all = Idiff.file_path_infd(GROUP1_DATAALL_FOLDER)"
   ]
  },
  {
   "cell_type": "markdown",
   "metadata": {},
   "source": [
    "## 1、个体识别性-总体Idiff"
   ]
  },
  {
   "cell_type": "markdown",
   "metadata": {},
   "source": [
    "#### 1-1 nFC方法的结果，不降维\n",
    "作用：验证nFC方法的降维结果"
   ]
  },
  {
   "cell_type": "code",
   "execution_count": 4,
   "metadata": {},
   "outputs": [
    {
     "name": "stdout",
     "output_type": "stream",
     "text": [
      "8.89 0.65 0.56\n"
     ]
    }
   ],
   "source": [
    "i=0\n",
    "VnFC_subj=[]\n",
    "trn_subj=[] #每种模态trail的数目\n",
    "\n",
    "for dyad in dyad_all:\n",
    "    # 导入mat数据\n",
    "    data_mat = scio.loadmat(dyad)\n",
    "    # data_mat的格式为情况*1*频段\n",
    "    # 选择目标模态对应的数据，ts的格式为被试数*时间点数*通道数\n",
    "    ts = data_mat[sit][0][freq].T\n",
    "    # 时间点选择\n",
    "    ts = ts[:,0:tp,:]\n",
    "    # 群体subc选择\n",
    "    if subc=='child': # 如果subject的类型为 child\n",
    "        ts_subc = ts[:,:,0:28]\n",
    "    elif subc=='adult': # 如果subject的类型为 adult\n",
    "        ts_subc = ts[:,:,28:56]\n",
    "    # 计算eFC的向量形式\n",
    "    if Vtype=='all': #eFC列向量VeFC\n",
    "        VnFC_file = VFC_dyad.VnFC_trail_all(ts_subc)\n",
    "    elif Vtype=='uptran': #eFC上三角列向量VeFC_uptran\n",
    "        VnFC_file = VFC_dyad.VnFC_trail_upt(ts_subc,Nuptran_indices)\n",
    "    # 拼接同一个mode对应的所有文件中的eFC上三角列向量\n",
    "    # 结果的维度为列向量长度*总的被试数\n",
    "    trn_mdi=VnFC_file.shape[1]\n",
    "    if i==0:\n",
    "        VnFC_subj=VnFC_file\n",
    "        trn_subj=trn_mdi\n",
    "        i=1\n",
    "    else:\n",
    "        VnFC_subj=np.c_[VnFC_subj,VnFC_file]\n",
    "        trn_subj=np.c_[trn_subj,trn_mdi]\n",
    "\n",
    "\n",
    "I_diff,I_self,I_other,I_self_mean,per_change,per_diff=Idiff.get_Idiff(VnFC_subj,trn_subj,'pearsonr')\n",
    "print('%.2f'%I_diff,'%.2f'%I_self_mean,'%.2f'%I_other)\n",
    "# 保留两位小数并记录数据\n",
    "I_concat = [I_diff,I_self_mean,I_other,per_change,per_diff]\n",
    "I_nFC = np.around(I_concat,2)"
   ]
  },
  {
   "cell_type": "code",
   "execution_count": null,
   "metadata": {},
   "outputs": [
    {
     "name": "stdout",
     "output_type": "stream",
     "text": [
      "0.4991624790619765\n"
     ]
    }
   ],
   "source": [
    "acrcy,_ = classification_accuracy.topk_sim_accuracy_meanpearsonr1(VnFC_subj,trn_subj,1)\n",
    "print(acrcy)\n",
    "acrcy,_ = classification_accuracy.topk_sim_accuracy_meanpearsonr1(VnFC_subj,trn_subj,3)\n",
    "print(acrcy)\n",
    "acrcy,_ = classification_accuracy.topk_sim_accuracy_meanpearsonr1(VnFC_subj,trn_subj,5)\n",
    "print(acrcy)"
   ]
  },
  {
   "cell_type": "code",
   "execution_count": 5,
   "metadata": {},
   "outputs": [
    {
     "name": "stdout",
     "output_type": "stream",
     "text": [
      "0.5658201894485146 0.46318097523144774\n",
      "0.998324958123953\n"
     ]
    }
   ],
   "source": [
    "acrcy = classification_accuracy.binary_classification_accuracy(VnFC_subj,trn_subj)\n",
    "print(acrcy)"
   ]
  },
  {
   "cell_type": "code",
   "execution_count": null,
   "metadata": {},
   "outputs": [],
   "source": [
    "def check_middle_pr(trn_subj,pearsonr_value_list,new_sheet_name):\n",
    "    true_labels = classification_accuracy.get_true_labels(trn_subj)\n",
    "\n",
    "    df_pearsonr_value_list = pd.DataFrame(pearsonr_value_list)\n",
    "# 添加列名和索引\n",
    "    df_pearsonr_value_list.columns= true_labels#设置列名\n",
    "    df_pearsonr_value_list\n",
    "\n",
    "# 创建一个新的工作表，命名为：场景+对象类型+频段\n",
    "    output_excel='output/Classify_pearsonr_value.xlsx'\n",
    "    # df=pd.DataFrame() #构造原始数据文件\n",
    "    # df.to_excel(output_excel)\n",
    "    excel_writer = pd.ExcelWriter(output_excel, mode='a',engine='openpyxl',if_sheet_exists='replace')\n",
    "# 保存至excel\n",
    "    df_pearsonr_value_list.to_excel(excel_writer, sheet_name=new_sheet_name)\n",
    "    excel_writer._save()\n",
    "\n",
    "acrcy,_,pearsonr_value_list = classification_accuracy.topk_sim_accuracy_meanpearsonr_middle_results(VnFC_subj,trn_subj,1)\n",
    "check_middle_pr(trn_subj,pearsonr_value_list,'nfc')"
   ]
  },
  {
   "cell_type": "markdown",
   "metadata": {},
   "source": [
    "#### 1-2 nFC方法的结果，降维"
   ]
  },
  {
   "cell_type": "code",
   "execution_count": 17,
   "metadata": {},
   "outputs": [],
   "source": [
    "import VnFC_mst\n",
    "\n",
    "def Idiff_mst_mn(nFC_mean_sort,mst_num):\n",
    "    edge_list1,edge_list2=[],[]\n",
    "\n",
    "    for mn in range(mst_num):\n",
    "        sort = nFC_mean_sort[:,chan_num+mn*2][0]\n",
    "        idx_i = sort//chan_num\n",
    "        idx_j = sort%chan_num\n",
    "    # 边列表1，2\n",
    "        edge_list1 = np.append(edge_list1,idx_i)\n",
    "        edge_list2 = np.append(edge_list2,idx_j)\n",
    "\n",
    "    edge_list = np.c_[edge_list1,edge_list2]\n",
    "    VnFC_mst_alld = VnFC_mst.VnFC_mst_all(dyad_all,sit,freq,subc,tp,\n",
    "                             edge_list)\n",
    "    I_diff,I_self,I_other,I_self_mean,per_change,per_diff=Idiff.get_Idiff(VnFC_mst_alld,trn_subj,'pearsonr')\n",
    "# print('%.2f'%I_diff,'%.2f'%I_self_mean,'%.2f'%I_other)\n",
    "# 保留两位小数并记录数据\n",
    "    I_concat = [I_diff,I_self_mean,I_other,per_change,per_diff]\n",
    "    I_nFC_mst = np.around(I_concat,2)\n",
    "\n",
    "    return VnFC_mst_alld,I_nFC_mst\n",
    "\n",
    "dyad_all = Idiff.file_path_infd(GROUP1_DATAALL_FOLDER)\n",
    "nFC_mean_all = VnFC_mst.nFC_all_mean(dyad_all,sit,freq,subc,tp)\n",
    "# 取绝对值\n",
    "nFC_mean_abs = np.abs(nFC_mean_all)\n",
    "nFC_mean_1d = nFC_mean_abs.reshape([1,len(nFC_mean_abs)**2])\n",
    "nFC_mean_1d_inv = -nFC_mean_1d\n",
    "nFC_mean_sort = nFC_mean_1d_inv.argsort()"
   ]
  },
  {
   "cell_type": "code",
   "execution_count": null,
   "metadata": {},
   "outputs": [],
   "source": [
    "k = 0\n",
    "dim_idx = [chan_num//2, chan_num, edge_num//2, edge_num]\n",
    "\n",
    "for mst_num in dim_idx:\n",
    "    VnFC_subj_mst, I_nFC_mst = Idiff_mst_mn(nFC_mean_sort,mst_num)\n",
    "    if k==0:\n",
    "        I_nFC_mst_all = I_nFC_mst\n",
    "        k=1\n",
    "    else:\n",
    "        I_nFC_mst_all = np.c_[I_nFC_mst_all,I_nFC_mst]\n",
    "    acrcy = classification_accuracy.topk_sim_accuracy_meanpearsonr(VnFC_subj_mst,trn_subj,1)\n",
    "    print(acrcy)"
   ]
  },
  {
   "cell_type": "code",
   "execution_count": 20,
   "metadata": {},
   "outputs": [
    {
     "data": {
      "text/html": [
       "<div>\n",
       "<style scoped>\n",
       "    .dataframe tbody tr th:only-of-type {\n",
       "        vertical-align: middle;\n",
       "    }\n",
       "\n",
       "    .dataframe tbody tr th {\n",
       "        vertical-align: top;\n",
       "    }\n",
       "\n",
       "    .dataframe thead th {\n",
       "        text-align: right;\n",
       "    }\n",
       "</style>\n",
       "<table border=\"1\" class=\"dataframe\">\n",
       "  <thead>\n",
       "    <tr style=\"text-align: right;\">\n",
       "      <th></th>\n",
       "      <th>I_diff</th>\n",
       "      <th>I_self</th>\n",
       "      <th>I_other</th>\n",
       "      <th>Change_rate</th>\n",
       "      <th>Diff_rate</th>\n",
       "    </tr>\n",
       "  </thead>\n",
       "  <tbody>\n",
       "    <tr>\n",
       "      <th>0</th>\n",
       "      <td>17.89</td>\n",
       "      <td>0.42</td>\n",
       "      <td>0.24</td>\n",
       "      <td>74.89</td>\n",
       "      <td>54.49</td>\n",
       "    </tr>\n",
       "    <tr>\n",
       "      <th>1</th>\n",
       "      <td>19.92</td>\n",
       "      <td>0.44</td>\n",
       "      <td>0.24</td>\n",
       "      <td>82.10</td>\n",
       "      <td>58.21</td>\n",
       "    </tr>\n",
       "    <tr>\n",
       "      <th>2</th>\n",
       "      <td>13.53</td>\n",
       "      <td>0.54</td>\n",
       "      <td>0.41</td>\n",
       "      <td>33.06</td>\n",
       "      <td>28.37</td>\n",
       "    </tr>\n",
       "    <tr>\n",
       "      <th>3</th>\n",
       "      <td>8.89</td>\n",
       "      <td>0.65</td>\n",
       "      <td>0.56</td>\n",
       "      <td>15.78</td>\n",
       "      <td>14.63</td>\n",
       "    </tr>\n",
       "  </tbody>\n",
       "</table>\n",
       "</div>"
      ],
      "text/plain": [
       "   I_diff  I_self  I_other  Change_rate  Diff_rate\n",
       "0   17.89    0.42     0.24        74.89      54.49\n",
       "1   19.92    0.44     0.24        82.10      58.21\n",
       "2   13.53    0.54     0.41        33.06      28.37\n",
       "3    8.89    0.65     0.56        15.78      14.63"
      ]
     },
     "execution_count": 20,
     "metadata": {},
     "output_type": "execute_result"
    }
   ],
   "source": [
    "# 转换为DataFrame格式\n",
    "I_nFC_mst_allt=I_nFC_mst_all.T\n",
    "df_nFC1 = pd.DataFrame(I_nFC_mst_allt)\n",
    "# 添加列名和索引\n",
    "df_nFC1.columns=['I_diff','I_self','I_other','Change_rate','Diff_rate'] #设置列名\n",
    "df_nFC1\n",
    "# # 创建一个新的工作表，命名为：场景+对象类型+频段\n",
    "# output_excel='output/Diff_mst_all.xlsx'\n",
    "# new_sheet_name = 'nFC' \n",
    "# excel_writer = pd.ExcelWriter(output_excel, mode='a',engine='openpyxl')\n",
    "# # 保存至excel\n",
    "# df_nFC1.to_excel(excel_writer, sheet_name=new_sheet_name)\n",
    "# excel_writer.save()"
   ]
  },
  {
   "cell_type": "markdown",
   "metadata": {},
   "source": [
    "### 1-3 eFC方法的结果，使用最小生成树MST降维"
   ]
  },
  {
   "cell_type": "code",
   "execution_count": 8,
   "metadata": {},
   "outputs": [],
   "source": [
    "# dyad_all = Idiff.file_path_infd(GROUP1_DATAALL_FOLDER)\n",
    "# eFC_mean_all = VeFC_mst.eFC_all_mean(dyad_all,sit,freq,subc,corr_type,tp)\n",
    "# # 取绝对值\n",
    "# eFC_mean_abs = np.abs(eFC_mean_all)\n",
    "# # 取1-原值：原值越大则1-原值越小，用于之后的最小生成树MST\n",
    "# eFC_abs_inv = 1-eFC_mean_abs\n",
    "# edge_list1,edge_list2=[],[]\n",
    "# for edge1 in range(1,edge_num):\n",
    "#     for edge2 in range(edge1):\n",
    "#         # 边列表1，2\n",
    "#         edge_list1 = np.append(edge_list1,edge1)\n",
    "#         edge_list2 = np.append(edge_list2,edge2)\n",
    "# eFC_Graph = MST_Graph.Graph()\n",
    "\n",
    "# for i in range(edge_list1.shape[0]):\n",
    "#     e1,e2=edge_list1[i],edge_list2[i]\n",
    "#     e1,e2=int(e1),int(e2)\n",
    "#     eFC_Graph.add_edge(e1,e2,-eFC_mean_abs[e1,e2])\n",
    "    \n",
    "# edge_mst_list = eFC_Graph.prim()\n",
    "# edge_mst_ary = np.array(edge_mst_list)[:]\n",
    "# edge_mst_idx = edge_mst_ary[:,:2]"
   ]
  },
  {
   "cell_type": "code",
   "execution_count": 6,
   "metadata": {},
   "outputs": [],
   "source": [
    "import VeFC_mst\n",
    "\n",
    "def Idiff_mst_mn_efc(eFC_mean_sort,mst_num):\n",
    "    edge_list1,edge_list2=[],[]\n",
    "\n",
    "    for mn in range(mst_num):\n",
    "        sort = eFC_mean_sort[:,edge_num+mn*2][0]\n",
    "        idx_i = sort//edge_num\n",
    "        idx_j = sort%edge_num\n",
    "    # 边列表1，2\n",
    "        edge_list1 = np.append(edge_list1,idx_i)\n",
    "        edge_list2 = np.append(edge_list2,idx_j)\n",
    "\n",
    "    edge_list = np.c_[edge_list1,edge_list2]\n",
    "    VeFC_mst_alld = VeFC_mst.VeFC_mst_all(dyad_all,sit,freq,subc,corr_type,tp,\n",
    "                             edge_list)\n",
    "    I_diff,I_self,I_other,I_self_mean,per_change,per_diff=Idiff.get_Idiff(VeFC_mst_alld,trn_subj,'pearsonr')\n",
    "# print('%.2f'%I_diff,'%.2f'%I_self_mean,'%.2f'%I_other)\n",
    "# 保留两位小数并记录数据\n",
    "    I_concat = [I_diff,I_self_mean,I_other,per_change,per_diff]\n",
    "    I_eFC_mst = np.around(I_concat,2)\n",
    "\n",
    "    return VeFC_mst_alld,I_eFC_mst\n",
    "\n",
    "eFC_mean_all = VeFC_mst.eFC_all_mean(dyad_all,sit,freq,subc,corr_type,tp)\n",
    "# 取绝对值\n",
    "eFC_mean_abs = np.abs(eFC_mean_all)\n",
    "eFC_mean_1d = eFC_mean_abs.reshape([1,len(eFC_mean_abs)**2])\n",
    "eFC_mean_1d_inv = -eFC_mean_1d\n",
    "eFC_mean_sort = eFC_mean_1d_inv.argsort()"
   ]
  },
  {
   "cell_type": "code",
   "execution_count": null,
   "metadata": {},
   "outputs": [],
   "source": [
    "k = 0\n",
    "\n",
    "dim_idx = [chan_num//2, chan_num, edge_num//2, edge_num]\n",
    "dim_idx = [edge_num*chan_num, edge_num*(edge_num-1)//2]\n",
    "dim_idx = [chan_num//2, chan_num, edge_num//2, edge_num, edge_num*chan_num, edge_num*(edge_num-1)//2]\n",
    "dim_idx = [edge_num*(edge_num-1)//2, edge_num]\n",
    "\n",
    "for mst_num in dim_idx:\n",
    "    VeFC_subj_mst,I_eFC_mst = Idiff_mst_mn_efc(eFC_mean_sort,mst_num)\n",
    "    if k==0:\n",
    "        I_eFC_mst_all = I_eFC_mst\n",
    "        k=1\n",
    "    else:\n",
    "        I_eFC_mst_all = np.c_[I_eFC_mst_all,I_eFC_mst]\n",
    "    acrcy = classification_accuracy.binary_classification_accuracy(VeFC_subj_mst,trn_subj)\n",
    "    print(acrcy)"
   ]
  },
  {
   "cell_type": "code",
   "execution_count": 8,
   "metadata": {},
   "outputs": [
    {
     "name": "stdout",
     "output_type": "stream",
     "text": [
      "0.19210675885953546 0.09411935153986624\n",
      "0.9865996649916248\n"
     ]
    }
   ],
   "source": [
    "acrcy = classification_accuracy.binary_classification_accuracy(VeFC_subj_mst,trn_subj)\n",
    "print(acrcy)"
   ]
  },
  {
   "cell_type": "code",
   "execution_count": null,
   "metadata": {},
   "outputs": [
    {
     "name": "stdout",
     "output_type": "stream",
     "text": [
      "0.4137353433835846\n",
      "0.6180904522613065\n",
      "0.7236180904522613\n"
     ]
    }
   ],
   "source": [
    "acrcy,_ = classification_accuracy.topk_sim_accuracy_meanpearsonr1(VeFC_subj_mst,trn_subj,1)\n",
    "print(acrcy)\n",
    "acrcy,_ = classification_accuracy.topk_sim_accuracy_meanpearsonr1(VeFC_subj_mst,trn_subj,3)\n",
    "print(acrcy)\n",
    "acrcy,_ = classification_accuracy.topk_sim_accuracy_meanpearsonr1(VeFC_subj_mst,trn_subj,5)\n",
    "print(acrcy)\n",
    "acrcy,_ = classification_accuracy.topk_sim_accuracy_meanpearsonr1(VeFC_subj_mst,trn_subj,10)\n",
    "print(acrcy)\n",
    "acrcy,_ = classification_accuracy.topk_sim_accuracy_meanpearsonr1(VeFC_subj_mst,trn_subj,20)\n",
    "print(acrcy)\n",
    "acrcy,_ = classification_accuracy.topk_sim_accuracy_meanpearsonr1(VeFC_subj_mst,trn_subj,30)\n",
    "print(acrcy)"
   ]
  },
  {
   "cell_type": "code",
   "execution_count": 25,
   "metadata": {},
   "outputs": [
    {
     "name": "stdout",
     "output_type": "stream",
     "text": [
      "       I_diff  I_self  I_other  Change_rate  Diff_rate\n",
      "14      16.59    0.43     0.27        61.69      47.15\n",
      "28      17.14    0.38     0.21        83.48      58.90\n",
      "189     19.89    0.32     0.13       158.93      88.56\n",
      "378     19.37    0.32     0.13       153.24      86.76\n",
      "10584   14.50    0.42     0.27        52.84      41.80\n",
      "71253    9.21    0.60     0.51        18.16      16.65\n"
     ]
    }
   ],
   "source": [
    "# 转换为DataFrame格式\n",
    "I_eFC_mst_allt=I_eFC_mst_all.T\n",
    "df_eFC1 = pd.DataFrame(I_eFC_mst_allt)\n",
    "# 添加列名和索引\n",
    "df_eFC1.columns=['I_diff','I_self','I_other','Change_rate','Diff_rate'] #设置列名\n",
    "df_eFC1.index = dim_idx\n",
    "print(df_eFC1)"
   ]
  },
  {
   "cell_type": "code",
   "execution_count": 26,
   "metadata": {},
   "outputs": [
    {
     "ename": "FileNotFoundError",
     "evalue": "[Errno 2] No such file or directory: 'output/Diff_mst_all.xlsx'",
     "output_type": "error",
     "traceback": [
      "\u001b[1;31m---------------------------------------------------------------------------\u001b[0m",
      "\u001b[1;31mFileNotFoundError\u001b[0m                         Traceback (most recent call last)",
      "Cell \u001b[1;32mIn[26], line 4\u001b[0m\n\u001b[0;32m      2\u001b[0m output_excel\u001b[38;5;241m=\u001b[39m\u001b[38;5;124m'\u001b[39m\u001b[38;5;124moutput/Diff_mst_all.xlsx\u001b[39m\u001b[38;5;124m'\u001b[39m\n\u001b[0;32m      3\u001b[0m new_sheet_name \u001b[38;5;241m=\u001b[39m \u001b[38;5;124m'\u001b[39m\u001b[38;5;124meFC\u001b[39m\u001b[38;5;124m'\u001b[39m \n\u001b[1;32m----> 4\u001b[0m excel_writer \u001b[38;5;241m=\u001b[39m \u001b[43mpd\u001b[49m\u001b[38;5;241;43m.\u001b[39;49m\u001b[43mExcelWriter\u001b[49m\u001b[43m(\u001b[49m\u001b[43moutput_excel\u001b[49m\u001b[43m,\u001b[49m\u001b[43m \u001b[49m\u001b[43mmode\u001b[49m\u001b[38;5;241;43m=\u001b[39;49m\u001b[38;5;124;43m'\u001b[39;49m\u001b[38;5;124;43ma\u001b[39;49m\u001b[38;5;124;43m'\u001b[39;49m\u001b[43m,\u001b[49m\u001b[43mengine\u001b[49m\u001b[38;5;241;43m=\u001b[39;49m\u001b[38;5;124;43m'\u001b[39;49m\u001b[38;5;124;43mopenpyxl\u001b[39;49m\u001b[38;5;124;43m'\u001b[39;49m\u001b[43m,\u001b[49m\u001b[43mif_sheet_exists\u001b[49m\u001b[38;5;241;43m=\u001b[39;49m\u001b[38;5;124;43m'\u001b[39;49m\u001b[38;5;124;43mreplace\u001b[39;49m\u001b[38;5;124;43m'\u001b[39;49m\u001b[43m)\u001b[49m\n\u001b[0;32m      5\u001b[0m \u001b[38;5;66;03m# 保存至excel\u001b[39;00m\n\u001b[0;32m      6\u001b[0m df_eFC1\u001b[38;5;241m.\u001b[39mto_excel(excel_writer, sheet_name\u001b[38;5;241m=\u001b[39mnew_sheet_name)\n",
      "File \u001b[1;32m~\\AppData\\Local\\Packages\\PythonSoftwareFoundation.Python.3.11_qbz5n2kfra8p0\\LocalCache\\local-packages\\Python311\\site-packages\\pandas\\io\\excel\\_openpyxl.py:61\u001b[0m, in \u001b[0;36mOpenpyxlWriter.__init__\u001b[1;34m(self, path, engine, date_format, datetime_format, mode, storage_options, if_sheet_exists, engine_kwargs, **kwargs)\u001b[0m\n\u001b[0;32m     57\u001b[0m \u001b[38;5;28;01mfrom\u001b[39;00m \u001b[38;5;21;01mopenpyxl\u001b[39;00m\u001b[38;5;21;01m.\u001b[39;00m\u001b[38;5;21;01mworkbook\u001b[39;00m \u001b[38;5;28;01mimport\u001b[39;00m Workbook\n\u001b[0;32m     59\u001b[0m engine_kwargs \u001b[38;5;241m=\u001b[39m combine_kwargs(engine_kwargs, kwargs)\n\u001b[1;32m---> 61\u001b[0m \u001b[38;5;28;43msuper\u001b[39;49m\u001b[43m(\u001b[49m\u001b[43m)\u001b[49m\u001b[38;5;241;43m.\u001b[39;49m\u001b[38;5;21;43m__init__\u001b[39;49m\u001b[43m(\u001b[49m\n\u001b[0;32m     62\u001b[0m \u001b[43m    \u001b[49m\u001b[43mpath\u001b[49m\u001b[43m,\u001b[49m\n\u001b[0;32m     63\u001b[0m \u001b[43m    \u001b[49m\u001b[43mmode\u001b[49m\u001b[38;5;241;43m=\u001b[39;49m\u001b[43mmode\u001b[49m\u001b[43m,\u001b[49m\n\u001b[0;32m     64\u001b[0m \u001b[43m    \u001b[49m\u001b[43mstorage_options\u001b[49m\u001b[38;5;241;43m=\u001b[39;49m\u001b[43mstorage_options\u001b[49m\u001b[43m,\u001b[49m\n\u001b[0;32m     65\u001b[0m \u001b[43m    \u001b[49m\u001b[43mif_sheet_exists\u001b[49m\u001b[38;5;241;43m=\u001b[39;49m\u001b[43mif_sheet_exists\u001b[49m\u001b[43m,\u001b[49m\n\u001b[0;32m     66\u001b[0m \u001b[43m    \u001b[49m\u001b[43mengine_kwargs\u001b[49m\u001b[38;5;241;43m=\u001b[39;49m\u001b[43mengine_kwargs\u001b[49m\u001b[43m,\u001b[49m\n\u001b[0;32m     67\u001b[0m \u001b[43m\u001b[49m\u001b[43m)\u001b[49m\n\u001b[0;32m     69\u001b[0m \u001b[38;5;66;03m# ExcelWriter replaced \"a\" by \"r+\" to allow us to first read the excel file from\u001b[39;00m\n\u001b[0;32m     70\u001b[0m \u001b[38;5;66;03m# the file and later write to it\u001b[39;00m\n\u001b[0;32m     71\u001b[0m \u001b[38;5;28;01mif\u001b[39;00m \u001b[38;5;124m\"\u001b[39m\u001b[38;5;124mr+\u001b[39m\u001b[38;5;124m\"\u001b[39m \u001b[38;5;129;01min\u001b[39;00m \u001b[38;5;28mself\u001b[39m\u001b[38;5;241m.\u001b[39m_mode:  \u001b[38;5;66;03m# Load from existing workbook\u001b[39;00m\n",
      "File \u001b[1;32m~\\AppData\\Local\\Packages\\PythonSoftwareFoundation.Python.3.11_qbz5n2kfra8p0\\LocalCache\\local-packages\\Python311\\site-packages\\pandas\\io\\excel\\_base.py:1246\u001b[0m, in \u001b[0;36mExcelWriter.__init__\u001b[1;34m(self, path, engine, date_format, datetime_format, mode, storage_options, if_sheet_exists, engine_kwargs)\u001b[0m\n\u001b[0;32m   1242\u001b[0m \u001b[38;5;28mself\u001b[39m\u001b[38;5;241m.\u001b[39m_handles \u001b[38;5;241m=\u001b[39m IOHandles(\n\u001b[0;32m   1243\u001b[0m     cast(IO[\u001b[38;5;28mbytes\u001b[39m], path), compression\u001b[38;5;241m=\u001b[39m{\u001b[38;5;124m\"\u001b[39m\u001b[38;5;124mcompression\u001b[39m\u001b[38;5;124m\"\u001b[39m: \u001b[38;5;28;01mNone\u001b[39;00m}\n\u001b[0;32m   1244\u001b[0m )\n\u001b[0;32m   1245\u001b[0m \u001b[38;5;28;01mif\u001b[39;00m \u001b[38;5;129;01mnot\u001b[39;00m \u001b[38;5;28misinstance\u001b[39m(path, ExcelWriter):\n\u001b[1;32m-> 1246\u001b[0m     \u001b[38;5;28mself\u001b[39m\u001b[38;5;241m.\u001b[39m_handles \u001b[38;5;241m=\u001b[39m \u001b[43mget_handle\u001b[49m\u001b[43m(\u001b[49m\n\u001b[0;32m   1247\u001b[0m \u001b[43m        \u001b[49m\u001b[43mpath\u001b[49m\u001b[43m,\u001b[49m\u001b[43m \u001b[49m\u001b[43mmode\u001b[49m\u001b[43m,\u001b[49m\u001b[43m \u001b[49m\u001b[43mstorage_options\u001b[49m\u001b[38;5;241;43m=\u001b[39;49m\u001b[43mstorage_options\u001b[49m\u001b[43m,\u001b[49m\u001b[43m \u001b[49m\u001b[43mis_text\u001b[49m\u001b[38;5;241;43m=\u001b[39;49m\u001b[38;5;28;43;01mFalse\u001b[39;49;00m\n\u001b[0;32m   1248\u001b[0m \u001b[43m    \u001b[49m\u001b[43m)\u001b[49m\n\u001b[0;32m   1249\u001b[0m \u001b[38;5;28mself\u001b[39m\u001b[38;5;241m.\u001b[39m_cur_sheet \u001b[38;5;241m=\u001b[39m \u001b[38;5;28;01mNone\u001b[39;00m\n\u001b[0;32m   1251\u001b[0m \u001b[38;5;28;01mif\u001b[39;00m date_format \u001b[38;5;129;01mis\u001b[39;00m \u001b[38;5;28;01mNone\u001b[39;00m:\n",
      "File \u001b[1;32m~\\AppData\\Local\\Packages\\PythonSoftwareFoundation.Python.3.11_qbz5n2kfra8p0\\LocalCache\\local-packages\\Python311\\site-packages\\pandas\\io\\common.py:882\u001b[0m, in \u001b[0;36mget_handle\u001b[1;34m(path_or_buf, mode, encoding, compression, memory_map, is_text, errors, storage_options)\u001b[0m\n\u001b[0;32m    873\u001b[0m         handle \u001b[38;5;241m=\u001b[39m \u001b[38;5;28mopen\u001b[39m(\n\u001b[0;32m    874\u001b[0m             handle,\n\u001b[0;32m    875\u001b[0m             ioargs\u001b[38;5;241m.\u001b[39mmode,\n\u001b[1;32m   (...)\u001b[0m\n\u001b[0;32m    878\u001b[0m             newline\u001b[38;5;241m=\u001b[39m\u001b[38;5;124m\"\u001b[39m\u001b[38;5;124m\"\u001b[39m,\n\u001b[0;32m    879\u001b[0m         )\n\u001b[0;32m    880\u001b[0m     \u001b[38;5;28;01melse\u001b[39;00m:\n\u001b[0;32m    881\u001b[0m         \u001b[38;5;66;03m# Binary mode\u001b[39;00m\n\u001b[1;32m--> 882\u001b[0m         handle \u001b[38;5;241m=\u001b[39m \u001b[38;5;28;43mopen\u001b[39;49m\u001b[43m(\u001b[49m\u001b[43mhandle\u001b[49m\u001b[43m,\u001b[49m\u001b[43m \u001b[49m\u001b[43mioargs\u001b[49m\u001b[38;5;241;43m.\u001b[39;49m\u001b[43mmode\u001b[49m\u001b[43m)\u001b[49m\n\u001b[0;32m    883\u001b[0m     handles\u001b[38;5;241m.\u001b[39mappend(handle)\n\u001b[0;32m    885\u001b[0m \u001b[38;5;66;03m# Convert BytesIO or file objects passed with an encoding\u001b[39;00m\n",
      "\u001b[1;31mFileNotFoundError\u001b[0m: [Errno 2] No such file or directory: 'output/Diff_mst_all.xlsx'"
     ]
    }
   ],
   "source": [
    "# 创建一个新的工作表，命名为：场景+对象类型+频段\n",
    "output_excel='output/Diff_mst_all.xlsx'\n",
    "new_sheet_name = 'eFC' \n",
    "excel_writer = pd.ExcelWriter(output_excel, mode='a',engine='openpyxl',if_sheet_exists='replace')\n",
    "# 保存至excel\n",
    "df_eFC1.to_excel(excel_writer, sheet_name=new_sheet_name)\n",
    "excel_writer.save()"
   ]
  },
  {
   "cell_type": "markdown",
   "metadata": {},
   "source": [
    "## 2、个体识别性-统计检验"
   ]
  },
  {
   "cell_type": "markdown",
   "metadata": {},
   "source": [
    "#### Bootstrapping\n",
    "使用Bootstrapping方法进行重抽样：30% = 15组，1000次"
   ]
  },
  {
   "cell_type": "code",
   "execution_count": null,
   "metadata": {},
   "outputs": [],
   "source": [
    "import Idiff_bootstrap\n",
    "\n",
    "I_eFC_all,I_nFC_all = Idiff_bootstrap.Idiff_boot(res_time=1000,yita=0.3,VeFC_mode=VeFC_subj_mst,VnFC_mode=VnFC_subj_mst,\n",
    "         trn_mode=trn_subj)"
   ]
  },
  {
   "cell_type": "code",
   "execution_count": null,
   "metadata": {},
   "outputs": [],
   "source": [
    "# 转换为DataFrame格式\n",
    "I_eFC_allt=I_eFC_all.T\n",
    "df_eFC1 = pd.DataFrame(I_eFC_allt)\n",
    "# 添加列名和索引\n",
    "df_eFC1.columns=['I_diff','I_self','I_other','Change_rate','Diff_rate'] #设置列名\n",
    "\n",
    "# 转换为DataFrame格式\n",
    "I_nFC_allt=I_nFC_all.T\n",
    "df_nFC1 = pd.DataFrame(I_nFC_allt)\n",
    "# 添加列名和索引\n",
    "df_nFC1.columns=['I_diff','I_self','I_other','Change_rate','Diff_rate'] #设置列名"
   ]
  },
  {
   "cell_type": "code",
   "execution_count": null,
   "metadata": {},
   "outputs": [
    {
     "ename": "NameError",
     "evalue": "name 'sit' is not defined",
     "output_type": "error",
     "traceback": [
      "\u001b[1;31m---------------------------------------------------------------------------\u001b[0m",
      "\u001b[1;31mNameError\u001b[0m                                 Traceback (most recent call last)",
      "Cell \u001b[1;32mIn[1], line 6\u001b[0m\n\u001b[0;32m      1\u001b[0m output_excel_stats \u001b[38;5;241m=\u001b[39m \u001b[38;5;124m'\u001b[39m\u001b[38;5;124moutput/Diff_dyad_mst_boot_all.xlsx\u001b[39m\u001b[38;5;124m'\u001b[39m\n\u001b[0;32m      2\u001b[0m \u001b[38;5;66;03m# df=pd.DataFrame() #构造原始数据文件\u001b[39;00m\n\u001b[0;32m      3\u001b[0m \u001b[38;5;66;03m# df.to_excel(output_excel_stats)\u001b[39;00m\n\u001b[0;32m      4\u001b[0m \n\u001b[0;32m      5\u001b[0m \u001b[38;5;66;03m# 创建一个新的工作表，命名为：场景+对象类型+频段\u001b[39;00m\n\u001b[1;32m----> 6\u001b[0m new_sheet_name \u001b[38;5;241m=\u001b[39m \u001b[43msit\u001b[49m\u001b[38;5;241m+\u001b[39m\u001b[38;5;124m'\u001b[39m\u001b[38;5;124m-\u001b[39m\u001b[38;5;124m'\u001b[39m\u001b[38;5;241m+\u001b[39msubc\u001b[38;5;241m+\u001b[39m\u001b[38;5;124m'\u001b[39m\u001b[38;5;124m-\u001b[39m\u001b[38;5;124m'\u001b[39m\u001b[38;5;241m+\u001b[39mfreq_all[freq] \n\u001b[0;32m      7\u001b[0m \u001b[38;5;66;03m# # 比较各个分支的结果\u001b[39;00m\n\u001b[0;32m      8\u001b[0m \u001b[38;5;66;03m# new_sheet_name = itype+'-'+corr_type\u001b[39;00m\n\u001b[0;32m      9\u001b[0m excel_writer \u001b[38;5;241m=\u001b[39m pd\u001b[38;5;241m.\u001b[39mExcelWriter(output_excel_stats, mode\u001b[38;5;241m=\u001b[39m\u001b[38;5;124m'\u001b[39m\u001b[38;5;124ma\u001b[39m\u001b[38;5;124m'\u001b[39m,engine\u001b[38;5;241m=\u001b[39m\u001b[38;5;124m'\u001b[39m\u001b[38;5;124mopenpyxl\u001b[39m\u001b[38;5;124m'\u001b[39m,if_sheet_exists\u001b[38;5;241m=\u001b[39m\u001b[38;5;124m'\u001b[39m\u001b[38;5;124mreplace\u001b[39m\u001b[38;5;124m'\u001b[39m)\n",
      "\u001b[1;31mNameError\u001b[0m: name 'sit' is not defined"
     ]
    }
   ],
   "source": [
    "output_excel_stats = 'output/Diff_dyad_mst_boot_all.xlsx'\n",
    "# df=pd.DataFrame() #构造原始数据文件\n",
    "# df.to_excel(output_excel_stats)\n",
    "\n",
    "# 创建一个新的工作表，命名为：场景+对象类型+频段\n",
    "new_sheet_name = sit+'-'+subc+'-'+freq_all[freq] \n",
    "# # 比较各个分支的结果\n",
    "# new_sheet_name = itype+'-'+corr_type\n",
    "excel_writer = pd.ExcelWriter(output_excel_stats, mode='a',engine='openpyxl',if_sheet_exists='replace')\n",
    "'''df = pd.DataFrame({new_sheet_name: []})\n",
    "df.to_excel(excel_writer, sheet_name=new_sheet_name, index=False)\n",
    "excel_writer.save()'''\n",
    "# 亲子组1个组的拼接\n",
    "df_all = pd.concat([df_eFC1,df_nFC1],axis=1)\n",
    "\n",
    "# 保存至excel\n",
    "df_all.to_excel(excel_writer, sheet_name=new_sheet_name)\n",
    "excel_writer.save()"
   ]
  },
  {
   "cell_type": "markdown",
   "metadata": {},
   "source": [
    "## 3、聚类结果可视化"
   ]
  },
  {
   "cell_type": "code",
   "execution_count": null,
   "metadata": {},
   "outputs": [],
   "source": [
    "classification_accuracy.KMeans_s_ch_score(VnFC_subj,trn_subj)\n",
    "classification_accuracy.KMeans_s_ch_score(VeFC_subj_mst,trn_subj)"
   ]
  },
  {
   "cell_type": "code",
   "execution_count": 33,
   "metadata": {},
   "outputs": [
    {
     "data": {
      "text/plain": [
       "array([0, 0, 0, 0, 0, 0, 0, 0, 0, 0, 0, 0, 1, 1, 1, 1, 1, 1, 1, 1, 1, 1,\n",
       "       1, 1, 1, 1, 2, 2, 2, 2, 2, 2, 2, 2, 2, 2, 2, 3, 3, 3, 3, 3, 3, 3,\n",
       "       3, 3, 3, 3, 3, 3, 3, 4, 4, 4, 4, 4, 4, 4, 4, 4, 4, 4, 4, 4, 4, 5,\n",
       "       5, 5, 5, 5, 5, 5, 5, 5, 5, 5, 5, 5, 6, 6, 6, 6, 6, 6, 6, 6, 6, 6,\n",
       "       6, 6, 6, 6, 7, 7, 7, 7, 7, 7, 7, 7, 7, 7, 7, 7, 7, 8, 8, 8, 8, 8,\n",
       "       8, 8, 8, 8, 8, 8, 9, 9, 9, 9, 9, 9, 9, 9, 9, 9, 9, 9, 9])"
      ]
     },
     "execution_count": 33,
     "metadata": {},
     "output_type": "execute_result"
    }
   ],
   "source": [
    "true_labels = classification_accuracy.get_true_labels(trn_subj)\n",
    "true_labels[:129]"
   ]
  },
  {
   "cell_type": "code",
   "execution_count": 34,
   "metadata": {},
   "outputs": [
    {
     "name": "stdout",
     "output_type": "stream",
     "text": [
      "(129, 378)\n"
     ]
    },
    {
     "data": {
      "image/png": "[encoded data removed]",
      "text/plain": [
       "<Figure size 800x600 with 1 Axes>"
      ]
     },
     "metadata": {},
     "output_type": "display_data"
    }
   ],
   "source": [
    "## MDS可视化\n",
    "import numpy as np\n",
    "from sklearn.manifold import MDS\n",
    "import matplotlib.pyplot as plt\n",
    "\n",
    "# 构造原始高维数据\n",
    "np.random.seed(0)\n",
    "X_high_dim = VeFC_subj_mst.T[:129,:]\n",
    "print(X_high_dim.shape)\n",
    "\n",
    "# 计算距离矩阵\n",
    "from sklearn.metrics.pairwise import euclidean_distances\n",
    "dist_matrix = euclidean_distances(X_high_dim)\n",
    "\n",
    "# 实例化MDS模型并进行降维\n",
    "mds = MDS(n_components=2, dissimilarity='precomputed')\n",
    "X_mds = mds.fit_transform(dist_matrix)\n",
    "\n",
    "# 可视化降维结果\n",
    "plt.figure(figsize=(8, 6))\n",
    "plt.scatter(X_mds[:, 0], X_mds[:, 1], s=100, c=true_labels[:129], alpha=0.8)\n",
    "plt.title('2D MDS Visualization')\n",
    "plt.xlabel('Dimension 1')\n",
    "plt.ylabel('Dimension 2')\n",
    "plt.grid(True, linestyle='dotted')\n",
    "plt.show()"
   ]
  },
  {
   "cell_type": "code",
   "execution_count": null,
   "metadata": {},
   "outputs": [],
   "source": []
  }
 ],
 "metadata": {
  "kernelspec": {
   "display_name": "Python 3",
   "language": "python",
   "name": "python3"
  },
  "language_info": {
   "codemirror_mode": {
    "name": "ipython",
    "version": 3
   },
   "file_extension": ".py",
   "mimetype": "text/x-python",
   "name": "python",
   "nbconvert_exporter": "python",
   "pygments_lexer": "ipython3",
   "version": "3.11.9"
  }
 },
 "nbformat": 4,
 "nbformat_minor": 2
}
