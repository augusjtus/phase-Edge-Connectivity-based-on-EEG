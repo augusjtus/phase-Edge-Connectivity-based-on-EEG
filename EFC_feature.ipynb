{
 "cells": [
  {
   "cell_type": "code",
   "execution_count": 1,
   "metadata": {},
   "outputs": [],
   "source": [
    "from sklearn.cluster import KMeans\n",
    "import scipy.io as scio\n",
    "import numpy as np\n",
    "import scipy.signal as signal\n",
    "import os\n",
    "\n",
    "from matplotlib import pyplot as plt\n",
    "import seaborn as sns\n",
    "import pandas as pd\n",
    "import scipy.stats as stats\n",
    "\n",
    "import eFC \n",
    "import VeFC_ex2fd as cal_VeFC"
   ]
  },
  {
   "cell_type": "code",
   "execution_count": 3,
   "metadata": {},
   "outputs": [
    {
     "data": {
      "text/plain": [
       "5292"
      ]
     },
     "execution_count": 3,
     "metadata": {},
     "output_type": "execute_result"
    }
   ],
   "source": [
    "378*28//2"
   ]
  },
  {
   "attachments": {},
   "cell_type": "markdown",
   "metadata": {},
   "source": [
    "### 输入输出和参数设置"
   ]
  },
  {
   "cell_type": "code",
   "execution_count": 2,
   "metadata": {},
   "outputs": [],
   "source": [
    "# 输入数据路径\n",
    "GROUP1_DATA2021_FOLDER = 'data2021/Class1-Parent'#亲子组\n",
    "GROUP2_DATA2021_FOLDER = 'data2021/Class2-Stranger'#陌生人组\n",
    "GROUP1_DATA2023_FOLDER = 'data2023/Class1-Parent'#亲子组\n",
    "GROUP2_DATA2023_FOLDER = 'data2023/Class2-Stranger'#陌生人组\n",
    "GROUP1_DATAALL_FOLDER = 'data_all/Class1-Parent'#亲子组\n",
    "GROUP2_DATAALL_FOLDER = 'data_all/Class2-Stranger'#陌生人组\n",
    "\n",
    "# 输入数据结构：\n",
    "# 每个数据文件包含6种拼图场景，其中前面的1/2表示儿童拼或者成人拼，\n",
    "# 后面的1/2/3表示单独/陪伴/合作,只关注3（合作）\n",
    "sit_c1 = 'ca11' #儿童拼-单独\n",
    "sit_a1 = 'ca21' #成人拼-单独\n",
    "sit_c2 = 'ca12' #儿童拼-陪伴\n",
    "sit_a2 = 'ca22' #成人拼-陪伴\n",
    "sit_c3 = 'ca13' #儿童拼-合作\n",
    "sit_a3 = 'ca23' #成人拼-合作\n",
    "# 每种情况包含4个cell文件，分别对应4个频段：1-3，3-6，6-9，9-12\n",
    "delta,theta,alpha,belta=0,1,2,3\n",
    "freq_all=['delta','theta','alpha','belta']\n",
    "# 每个cell文件的格式为通道数*时间点数*被试数\n",
    "# 通道数: 其中1-28为儿童，29-56为成人，通过subc选择类型\n",
    "# 28个通道及其对应的索引为：\n",
    "channame_full = ['Fp1','Fp2','Fz','F3','F4','F7','F8','FC1','FC2','FC5','FC6','Cz','C3','C4','T7','T8','CP1','CP2','CP5','CP6','Pz','P3','P4','P7','P8','Oz','O1','O2']\n",
    "id_chan_all = list(range(0,28))\n",
    "# 26个通道及其对应的索引为：\n",
    "channame_test = ['Fp1','Fp2','Fz','F3','F4','F7','F8','FC1','FC2','FC5','FC6','Cz','C3','C4','CP1','CP2','CP5','CP6','Pz','P3','P4','P7','P8','Oz','O1','O2']\n",
    "id_chan_test = [ 0,  1,  2,  3,  4,  5,  6,  7,  8,  9, 10, 11, 12, 13, 16, 17,\n",
    "        18, 19, 20, 21, 22, 23, 24, 25, 26, 27]"
   ]
  },
  {
   "cell_type": "code",
   "execution_count": 3,
   "metadata": {},
   "outputs": [],
   "source": [
    "# 输出文件\n",
    "# 输出数据所要导出到的Excel文件\n",
    "output_excel='output/EFC_feature.xlsx'\n",
    "# df=pd.DataFrame() #构造原始数据文件\n",
    "# df.to_excel(output_excel)"
   ]
  },
  {
   "cell_type": "code",
   "execution_count": 4,
   "metadata": {},
   "outputs": [],
   "source": [
    "# 参数设置\n",
    "chan_num = 28 #通道数\n",
    "edge_num = int(chan_num*(chan_num-1)/2) #边数\n",
    "Nuptran_indices = cal_VeFC.uptran_mask(chan_num) #矩阵上三角列向量的位置\n",
    "Euptran_indices = cal_VeFC.uptran_mask(edge_num) #矩阵上三角列向量的位置\n",
    "Vtype='all'\n",
    "\n",
    "# itype指边连接强度的计算方式，'p','c','d'分别代表：PLV复指数、corr相关、delta做差\n",
    "itype_all=['e','c','d']\n",
    "itype=itype_all[0]\n",
    "# corr_type指边与边之间共波动特性的计算方式，'cos','pearson','delta'分别代表：\n",
    "# 余弦相似度，皮尔逊相关系数，直接做差\n",
    "corr_type_all=['cos','pearson','delta']\n",
    "corr_type=corr_type_all[0]\n",
    "\n",
    "sit=sit_c3 #拼图场景\n",
    "freq=alpha #频段\n",
    "subc_all=['child','adult']\n",
    "subc=subc_all[0]  #对象类型 "
   ]
  },
  {
   "cell_type": "markdown",
   "metadata": {},
   "source": [
    "### 特征1：研究共节点的两条边对应的EFC值是否高于不共节点的两条边"
   ]
  },
  {
   "cell_type": "code",
   "execution_count": 41,
   "metadata": {},
   "outputs": [
    {
     "data": {
      "text/plain": [
       "(378,)"
      ]
     },
     "execution_count": 41,
     "metadata": {},
     "output_type": "execute_result"
    }
   ],
   "source": [
    "# 导入mat数据\n",
    "path_mat='data_all/Class1-Parent/2023052501_prt.mat'\n",
    "data_mat = scio.loadmat(path_mat)\n",
    "# data_mat的格式为情况*1*频段\n",
    "\n",
    "# 选择目标模态对应的数据，ts的格式为被试数*时间点数*通道数\n",
    "# 目标模态设置为：\n",
    "ts = data_mat[sit][0][freq].T\n",
    "\n",
    "# 群体subc选择\n",
    "if subc=='child': # 如果subject的类型为 child\n",
    "    ts_subc = ts[:,:,0:28]\n",
    "elif subc=='adult': # 如果subject的类型为 adult\n",
    "    ts_subc = ts[:,:,28:56]\n",
    "\n",
    "# 被试组选择\n",
    "i=0\n",
    "E,edges,nodes1,nodes2 = eFC.Int_exp(ts_subc[i])\n",
    "eFC_mat = eFC.eFC_mat_cs(E)\n",
    "nodes1.shape"
   ]
  },
  {
   "cell_type": "code",
   "execution_count": 42,
   "metadata": {},
   "outputs": [],
   "source": [
    "def NB_Diff_trl(eFC_mat,edge_num,nodes1,nodes2):\n",
    "    eFC_nbT=[]\n",
    "    eFC_nbF=[]\n",
    "\n",
    "    for i in range(edge_num):\n",
    "        for j in range(edge_num):\n",
    "        # 两条边不相同\n",
    "            if i!=j:\n",
    "            # 设置“是否有相同的结点”的flag标记nb\n",
    "                nb=False\n",
    "            # 比较两条边所有结点的编号\n",
    "                if nodes1[i]==nodes2[i]:\n",
    "                    nb=True\n",
    "                elif nodes1[i]==nodes2[j]:\n",
    "                    nb=True\n",
    "                elif nodes1[j]==nodes2[i]:\n",
    "                    nb=True\n",
    "                elif nodes1[j]==nodes2[j]:\n",
    "                    nb=True\n",
    "            # 如果这两条边有相同的结点\n",
    "                if nb==True:\n",
    "                    eFC_nbT=np.append(eFC_nbT,eFC_mat[i,j])\n",
    "            # 如果这两条边没有相同的结点\n",
    "                else:\n",
    "                    eFC_nbF=np.append(eFC_nbF,eFC_mat[i,j])\n",
    "    # 将所有的EFC数值取绝对值：因为负相关也代表了一种相关性\n",
    "    eFC_nbT_abs = np.abs(eFC_nbT)\n",
    "    eFC_nbF_abs = np.abs(eFC_nbF)\n",
    "    # 计算EFC矩阵中共节点的边对于数值的平均值\n",
    "    eFC_nbT_mean = np.mean(eFC_nbT_abs)\n",
    "    # 计算EFC矩阵中不共节点的边对于数值的平均值\n",
    "    eFC_nbF_mean = np.mean(eFC_nbF_abs)\n",
    "    \n",
    "    return eFC_nbT_mean,eFC_nbF_mean"
   ]
  },
  {
   "cell_type": "code",
   "execution_count": 43,
   "metadata": {},
   "outputs": [],
   "source": [
    "def NB_diff_dyad(ts):\n",
    "    eFC_nbT_trl=[] # 共有结点的边的EFC平均值，所有trial汇总\n",
    "    eFC_nbF_trl=[] # 不共有结点的边的EFC平均值，所有trial汇总\n",
    "    for i in range(ts.shape[0]):\n",
    "        if itype=='e':\n",
    "            E = eFC.Int_exp(ts[i])[0]\n",
    "        elif itype=='c':\n",
    "            E = eFC.Int_delta(ts[i])[0]\n",
    "        elif itype=='d':\n",
    "            E = eFC.Int_delta(ts[i])[0]\n",
    "        nodes1,nodes2 = eFC.Int_exp(ts[i])[2],eFC.Int_exp(ts[i])[3]\n",
    "    # 选择相关系数的类型\n",
    "        if corr_type=='cos':\n",
    "            eFC_mat = eFC.eFC_mat_cs(E)\n",
    "        elif corr_type=='pearson':\n",
    "            eFC_mat = eFC.eFC_mat_pr(E)\n",
    "        elif corr_type=='delta':\n",
    "            eFC_mat = eFC.eFC_mat_delta(E)\n",
    "    # 计算一个trial（对应一个EFC矩阵）的eFC_nbT_mean,eFC_nbF_mean\n",
    "        eFC_nbT,eFC_nbF = NB_Diff_trl(eFC_mat,edge_num,nodes1,nodes2)\n",
    "        eFC_nbT_trl=np.append(eFC_nbT_trl,eFC_nbT)\n",
    "        eFC_nbF_trl=np.append(eFC_nbF_trl,eFC_nbF)\n",
    "    # 所有trial的eFC_nbT、eFC_nbF取平均\n",
    "    eFC_nbT_mean=np.mean(eFC_nbT_trl)\n",
    "    eFC_nbF_mean=np.mean(eFC_nbF_trl)\n",
    "\n",
    "    return eFC_nbT_trl,eFC_nbF_trl,eFC_nbT_mean,eFC_nbF_mean"
   ]
  },
  {
   "cell_type": "code",
   "execution_count": 44,
   "metadata": {},
   "outputs": [],
   "source": [
    "def NB_diff_all(GROUP_DATA_FOLDER,sit,freq,subc):\n",
    "    eFC_nbT_all=[] # 共有结点的边的EFC平均值，所有dyad汇总\n",
    "    eFC_nbF_all=[] # 不共有结点的边的EFC平均值，所有dyad汇总\n",
    "    for filepath,dirnames,filenames in os.walk(GROUP_DATA_FOLDER):\n",
    "            for filename in filenames:\n",
    "                path_mat = os.path.join(filepath,filename)\n",
    "                # 数据为.mat格式 \n",
    "                if path_mat[-4:] == '.mat':\n",
    "                    # 导入mat数据\n",
    "                    data_mat = scio.loadmat(path_mat)# data_mat的格式为情况*1*频段\n",
    "\n",
    "                    # 选择目标模态对应的数据，ts的格式为被试数*时间点数*通道数\n",
    "                    ts = data_mat[sit][0][freq].T\n",
    "                    # 群体subc选择\n",
    "                    if subc=='child': # 如果subject的类型为 child\n",
    "                        ts_subc = ts[:,:,0:28]\n",
    "                    elif subc=='adult': # 如果subject的类型为 adult\n",
    "                        ts_subc = ts[:,:,28:56]\n",
    "                    eFC_nbT_trl,eFC_nbF_trl,eFC_nbT_mean,eFC_nbF_mean = NB_diff_dyad(ts_subc)\n",
    "                    eFC_nbT_all=np.append(eFC_nbT_all,eFC_nbT_mean)\n",
    "                    eFC_nbF_all=np.append(eFC_nbF_all,eFC_nbF_mean)\n",
    "\n",
    "    return eFC_nbT_all,eFC_nbF_all"
   ]
  },
  {
   "cell_type": "code",
   "execution_count": 45,
   "metadata": {},
   "outputs": [],
   "source": [
    "eFC_nbT_all,eFC_nbF_all = NB_diff_all(GROUP1_DATAALL_FOLDER,sit,freq,subc)"
   ]
  },
  {
   "cell_type": "code",
   "execution_count": 46,
   "metadata": {},
   "outputs": [
    {
     "data": {
      "text/plain": [
       "TtestResult(statistic=50.282168953705394, pvalue=1.7591371984595823e-44, df=50)"
      ]
     },
     "execution_count": 46,
     "metadata": {},
     "output_type": "execute_result"
    }
   ],
   "source": [
    "#perform the paired samples t-test\n",
    "stats.ttest_rel(eFC_nbT_all,eFC_nbF_all)"
   ]
  },
  {
   "cell_type": "markdown",
   "metadata": {},
   "source": [
    "### 导出输出数据"
   ]
  },
  {
   "cell_type": "code",
   "execution_count": 47,
   "metadata": {},
   "outputs": [
    {
     "data": {
      "text/plain": [
       "'df = pd.DataFrame({new_sheet_name: []})\\ndf.to_excel(excel_writer, sheet_name=new_sheet_name, index=False)\\nexcel_writer.save()'"
      ]
     },
     "execution_count": 47,
     "metadata": {},
     "output_type": "execute_result"
    }
   ],
   "source": [
    "# 创建一个新的工作表，命名为：场景+对象类型+频段\n",
    "new_sheet_name = sit+'-'+subc+'-'+freq_all[freq] \n",
    "# # 比较各个分支的结果\n",
    "# new_sheet_name = itype+'-'+corr_type\n",
    "excel_writer = pd.ExcelWriter(output_excel, mode='a',engine='openpyxl')\n",
    "'''df = pd.DataFrame({new_sheet_name: []})\n",
    "df.to_excel(excel_writer, sheet_name=new_sheet_name, index=False)\n",
    "excel_writer.save()'''"
   ]
  },
  {
   "cell_type": "code",
   "execution_count": 48,
   "metadata": {},
   "outputs": [
    {
     "name": "stderr",
     "output_type": "stream",
     "text": [
      "C:\\Users\\吴诚成\\AppData\\Local\\Temp\\ipykernel_1364\\523881956.py:11: FutureWarning: save is not part of the public API, usage can give unexpected results and will be removed in a future version\n",
      "  excel_writer.save()\n"
     ]
    }
   ],
   "source": [
    "# 拼接两组EFC数据\n",
    "eFC_all = np.c_[eFC_nbT_all,eFC_nbF_all]\n",
    "\n",
    "# 转换为DataFrame格式\n",
    "df_eFC_all = pd.DataFrame(eFC_all)\n",
    "# 设置列名\n",
    "df_eFC_all.columns=['shared-node','no shared-node']\n",
    "\n",
    "# 保存至excel\n",
    "df_eFC_all.to_excel(excel_writer, sheet_name=new_sheet_name)\n",
    "excel_writer.save()"
   ]
  },
  {
   "cell_type": "markdown",
   "metadata": {},
   "source": [
    "### 其他特征"
   ]
  },
  {
   "cell_type": "code",
   "execution_count": 49,
   "metadata": {},
   "outputs": [
    {
     "data": {
      "text/plain": [
       "array(['0-0', '0-1', '0-2', ..., '377-375', '377-376', '377-377'],\n",
       "      dtype='<U32')"
      ]
     },
     "execution_count": 49,
     "metadata": {},
     "output_type": "execute_result"
    }
   ],
   "source": [
    "# 记录所有双边组的标记\n",
    "# 两个数字分别表示两条边（在所有边中的排序）\n",
    "edges12=[]\n",
    "\n",
    "for i in range(edge_num):\n",
    "    for j in range(edge_num):\n",
    "    # # 两条边不相同\n",
    "    #     if i!=j:\n",
    "        # 用来记录一组双边中两条边的顺序\n",
    "        edge12 = str(i)+\"-\"+str(j)\n",
    "        edges12=np.append(edges12,edge12)\n",
    "    \n",
    "edges12"
   ]
  },
  {
   "cell_type": "code",
   "execution_count": 50,
   "metadata": {},
   "outputs": [
    {
     "data": {
      "text/plain": [
       "(71253,)"
      ]
     },
     "execution_count": 50,
     "metadata": {},
     "output_type": "execute_result"
    }
   ],
   "source": [
    "edges_upt=edges12[Euptran_indices]\n",
    "edges_upt.shape"
   ]
  },
  {
   "cell_type": "code",
   "execution_count": 51,
   "metadata": {},
   "outputs": [
    {
     "data": {
      "text/plain": [
       "(71253,)"
      ]
     },
     "execution_count": 51,
     "metadata": {},
     "output_type": "execute_result"
    }
   ],
   "source": [
    "# 具有显著高或者低的EFC数值的双边\n",
    "def Dedge_dyad(ts):\n",
    "    VeFC_trl=[] # 所有trial的VeFC向量汇总\n",
    "    tn = 0\n",
    "    for i in range(ts.shape[0]):\n",
    "        if itype=='e':\n",
    "            E = eFC.Int_exp(ts[i])[0]\n",
    "        elif itype=='c':\n",
    "            E = eFC.Int_delta(ts[i])[0]\n",
    "        elif itype=='d':\n",
    "            E = eFC.Int_delta(ts[i])[0]\n",
    "    # 选择相关系数的类型\n",
    "        if corr_type=='cos':\n",
    "            eFC_mat = eFC.eFC_mat_cs(E)\n",
    "        elif corr_type=='pearson':\n",
    "            eFC_mat = eFC.eFC_mat_pr(E)\n",
    "        elif corr_type=='delta':\n",
    "            eFC_mat = eFC.eFC_mat_delta(E)\n",
    "    # 将eFC_mat打平成向量，然后提取其中的上三角部分\n",
    "        eFC_flatten = eFC_mat.flatten(\"F\")\n",
    "        VeFC_upt = eFC_flatten[Euptran_indices]\n",
    "        if tn==0:\n",
    "            VeFC_trl=VeFC_upt\n",
    "            tn=1\n",
    "        else:\n",
    "            VeFC_trl=np.c_[VeFC_trl,VeFC_upt]\n",
    "    # 所有trial的VeFC取平均\n",
    "    VeFC_trl_mean=np.mean(VeFC_trl,axis=1)\n",
    "\n",
    "    return VeFC_trl_mean\n",
    "\n",
    "VeFC_trl_mean = Dedge_dyad(ts_subc)\n",
    "VeFC_trl_mean.shape"
   ]
  },
  {
   "cell_type": "code",
   "execution_count": 52,
   "metadata": {},
   "outputs": [
    {
     "data": {
      "text/plain": [
       "<function ndarray.argsort>"
      ]
     },
     "execution_count": 52,
     "metadata": {},
     "output_type": "execute_result"
    }
   ],
   "source": [
    "VeFC_trl_mean.argsort"
   ]
  },
  {
   "cell_type": "code",
   "execution_count": 53,
   "metadata": {},
   "outputs": [
    {
     "data": {
      "text/plain": [
       "array(['1-0', '2-0', '2-1', '7-6', '11-10', '16-15', '79-78', '104-87',\n",
       "       '111-51', '118-88', '137-136', '172-171', '186-181', '187-135',\n",
       "       '257-214', '263-220', '266-223', '267-224', '268-225', '270-227',\n",
       "       '271-228', '272-229', '274-228', '275-252', '294-249', '298-0',\n",
       "       '299-275', '299-297', '324-299', '331-326', '340-335', '348-346',\n",
       "       '350-322', '350-324', '351-0', '357-306', '377-0', '377-350',\n",
       "       '377-351'], dtype='<U32')"
      ]
     },
     "execution_count": 53,
     "metadata": {},
     "output_type": "execute_result"
    }
   ],
   "source": [
    "edges_upt[np.where(VeFC_trl_mean>0.8)]"
   ]
  },
  {
   "cell_type": "code",
   "execution_count": 54,
   "metadata": {},
   "outputs": [
    {
     "ename": "FileNotFoundError",
     "evalue": "[Errno 2] No such file or directory: 'data/Class1-Parent/2021060701epoch(1-3-6-9-12)_noref.mat'",
     "output_type": "error",
     "traceback": [
      "\u001b[1;31m---------------------------------------------------------------------------\u001b[0m",
      "\u001b[1;31mFileNotFoundError\u001b[0m                         Traceback (most recent call last)",
      "File \u001b[1;32mc:\\Users\\吴诚成\\AppData\\Local\\Programs\\Python\\Python311\\Lib\\site-packages\\scipy\\io\\matlab\\_mio.py:39\u001b[0m, in \u001b[0;36m_open_file\u001b[1;34m(file_like, appendmat, mode)\u001b[0m\n\u001b[0;32m     38\u001b[0m \u001b[38;5;28;01mtry\u001b[39;00m:\n\u001b[1;32m---> 39\u001b[0m     \u001b[38;5;28;01mreturn\u001b[39;00m \u001b[38;5;28mopen\u001b[39m(file_like, mode), \u001b[38;5;28;01mTrue\u001b[39;00m\n\u001b[0;32m     40\u001b[0m \u001b[38;5;28;01mexcept\u001b[39;00m \u001b[38;5;167;01mOSError\u001b[39;00m \u001b[38;5;28;01mas\u001b[39;00m e:\n\u001b[0;32m     41\u001b[0m     \u001b[38;5;66;03m# Probably \"not found\"\u001b[39;00m\n",
      "\u001b[1;31mFileNotFoundError\u001b[0m: [Errno 2] No such file or directory: 'data/Class1-Parent/2021060701epoch(1-3-6-9-12)_noref.mat'",
      "\nDuring handling of the above exception, another exception occurred:\n",
      "\u001b[1;31mFileNotFoundError\u001b[0m                         Traceback (most recent call last)",
      "Cell \u001b[1;32mIn[54], line 3\u001b[0m\n\u001b[0;32m      1\u001b[0m \u001b[38;5;66;03m# 导入mat数据\u001b[39;00m\n\u001b[0;32m      2\u001b[0m path_mat\u001b[38;5;241m=\u001b[39m\u001b[38;5;124m'\u001b[39m\u001b[38;5;124mdata/Class1-Parent/2021060701epoch(1-3-6-9-12)_noref.mat\u001b[39m\u001b[38;5;124m'\u001b[39m\n\u001b[1;32m----> 3\u001b[0m data_mat \u001b[38;5;241m=\u001b[39m \u001b[43mscio\u001b[49m\u001b[38;5;241;43m.\u001b[39;49m\u001b[43mloadmat\u001b[49m\u001b[43m(\u001b[49m\u001b[43mpath_mat\u001b[49m\u001b[43m)\u001b[49m\n\u001b[0;32m      4\u001b[0m \u001b[38;5;66;03m# data_mat的格式为情况*1*频段\u001b[39;00m\n\u001b[0;32m      5\u001b[0m \n\u001b[0;32m      6\u001b[0m \u001b[38;5;66;03m# 选择目标模态对应的数据，ts的格式为被试数*时间点数*通道数\u001b[39;00m\n\u001b[0;32m      7\u001b[0m \u001b[38;5;66;03m# 目标模态设置为：\u001b[39;00m\n\u001b[0;32m      8\u001b[0m sit,freq,subc\u001b[38;5;241m=\u001b[39msit_c3,theta,\u001b[38;5;124m'\u001b[39m\u001b[38;5;124mchild\u001b[39m\u001b[38;5;124m'\u001b[39m\n",
      "File \u001b[1;32mc:\\Users\\吴诚成\\AppData\\Local\\Programs\\Python\\Python311\\Lib\\site-packages\\scipy\\io\\matlab\\_mio.py:225\u001b[0m, in \u001b[0;36mloadmat\u001b[1;34m(file_name, mdict, appendmat, **kwargs)\u001b[0m\n\u001b[0;32m     88\u001b[0m \u001b[38;5;250m\u001b[39m\u001b[38;5;124;03m\"\"\"\u001b[39;00m\n\u001b[0;32m     89\u001b[0m \u001b[38;5;124;03mLoad MATLAB file.\u001b[39;00m\n\u001b[0;32m     90\u001b[0m \n\u001b[1;32m   (...)\u001b[0m\n\u001b[0;32m    222\u001b[0m \u001b[38;5;124;03m    3.14159265+3.14159265j])\u001b[39;00m\n\u001b[0;32m    223\u001b[0m \u001b[38;5;124;03m\"\"\"\u001b[39;00m\n\u001b[0;32m    224\u001b[0m variable_names \u001b[38;5;241m=\u001b[39m kwargs\u001b[38;5;241m.\u001b[39mpop(\u001b[38;5;124m'\u001b[39m\u001b[38;5;124mvariable_names\u001b[39m\u001b[38;5;124m'\u001b[39m, \u001b[38;5;28;01mNone\u001b[39;00m)\n\u001b[1;32m--> 225\u001b[0m \u001b[43m\u001b[49m\u001b[38;5;28;43;01mwith\u001b[39;49;00m\u001b[43m \u001b[49m\u001b[43m_open_file_context\u001b[49m\u001b[43m(\u001b[49m\u001b[43mfile_name\u001b[49m\u001b[43m,\u001b[49m\u001b[43m \u001b[49m\u001b[43mappendmat\u001b[49m\u001b[43m)\u001b[49m\u001b[43m \u001b[49m\u001b[38;5;28;43;01mas\u001b[39;49;00m\u001b[43m \u001b[49m\u001b[43mf\u001b[49m\u001b[43m:\u001b[49m\n\u001b[0;32m    226\u001b[0m \u001b[43m    \u001b[49m\u001b[43mMR\u001b[49m\u001b[43m,\u001b[49m\u001b[43m \u001b[49m\u001b[43m_\u001b[49m\u001b[43m \u001b[49m\u001b[38;5;241;43m=\u001b[39;49m\u001b[43m \u001b[49m\u001b[43mmat_reader_factory\u001b[49m\u001b[43m(\u001b[49m\u001b[43mf\u001b[49m\u001b[43m,\u001b[49m\u001b[43m \u001b[49m\u001b[38;5;241;43m*\u001b[39;49m\u001b[38;5;241;43m*\u001b[39;49m\u001b[43mkwargs\u001b[49m\u001b[43m)\u001b[49m\n\u001b[0;32m    227\u001b[0m \u001b[43m    \u001b[49m\u001b[43mmatfile_dict\u001b[49m\u001b[43m \u001b[49m\u001b[38;5;241;43m=\u001b[39;49m\u001b[43m \u001b[49m\u001b[43mMR\u001b[49m\u001b[38;5;241;43m.\u001b[39;49m\u001b[43mget_variables\u001b[49m\u001b[43m(\u001b[49m\u001b[43mvariable_names\u001b[49m\u001b[43m)\u001b[49m\n",
      "File \u001b[1;32mc:\\Users\\吴诚成\\AppData\\Local\\Programs\\Python\\Python311\\Lib\\contextlib.py:137\u001b[0m, in \u001b[0;36m_GeneratorContextManager.__enter__\u001b[1;34m(self)\u001b[0m\n\u001b[0;32m    135\u001b[0m \u001b[38;5;28;01mdel\u001b[39;00m \u001b[38;5;28mself\u001b[39m\u001b[38;5;241m.\u001b[39margs, \u001b[38;5;28mself\u001b[39m\u001b[38;5;241m.\u001b[39mkwds, \u001b[38;5;28mself\u001b[39m\u001b[38;5;241m.\u001b[39mfunc\n\u001b[0;32m    136\u001b[0m \u001b[38;5;28;01mtry\u001b[39;00m:\n\u001b[1;32m--> 137\u001b[0m     \u001b[38;5;28;01mreturn\u001b[39;00m \u001b[38;5;28mnext\u001b[39m(\u001b[38;5;28mself\u001b[39m\u001b[38;5;241m.\u001b[39mgen)\n\u001b[0;32m    138\u001b[0m \u001b[38;5;28;01mexcept\u001b[39;00m \u001b[38;5;167;01mStopIteration\u001b[39;00m:\n\u001b[0;32m    139\u001b[0m     \u001b[38;5;28;01mraise\u001b[39;00m \u001b[38;5;167;01mRuntimeError\u001b[39;00m(\u001b[38;5;124m\"\u001b[39m\u001b[38;5;124mgenerator didn\u001b[39m\u001b[38;5;124m'\u001b[39m\u001b[38;5;124mt yield\u001b[39m\u001b[38;5;124m\"\u001b[39m) \u001b[38;5;28;01mfrom\u001b[39;00m \u001b[38;5;28mNone\u001b[39m\n",
      "File \u001b[1;32mc:\\Users\\吴诚成\\AppData\\Local\\Programs\\Python\\Python311\\Lib\\site-packages\\scipy\\io\\matlab\\_mio.py:17\u001b[0m, in \u001b[0;36m_open_file_context\u001b[1;34m(file_like, appendmat, mode)\u001b[0m\n\u001b[0;32m     15\u001b[0m \u001b[38;5;129m@contextmanager\u001b[39m\n\u001b[0;32m     16\u001b[0m \u001b[38;5;28;01mdef\u001b[39;00m \u001b[38;5;21m_open_file_context\u001b[39m(file_like, appendmat, mode\u001b[38;5;241m=\u001b[39m\u001b[38;5;124m'\u001b[39m\u001b[38;5;124mrb\u001b[39m\u001b[38;5;124m'\u001b[39m):\n\u001b[1;32m---> 17\u001b[0m     f, opened \u001b[38;5;241m=\u001b[39m \u001b[43m_open_file\u001b[49m\u001b[43m(\u001b[49m\u001b[43mfile_like\u001b[49m\u001b[43m,\u001b[49m\u001b[43m \u001b[49m\u001b[43mappendmat\u001b[49m\u001b[43m,\u001b[49m\u001b[43m \u001b[49m\u001b[43mmode\u001b[49m\u001b[43m)\u001b[49m\n\u001b[0;32m     18\u001b[0m     \u001b[38;5;28;01mtry\u001b[39;00m:\n\u001b[0;32m     19\u001b[0m         \u001b[38;5;28;01myield\u001b[39;00m f\n",
      "File \u001b[1;32mc:\\Users\\吴诚成\\AppData\\Local\\Programs\\Python\\Python311\\Lib\\site-packages\\scipy\\io\\matlab\\_mio.py:45\u001b[0m, in \u001b[0;36m_open_file\u001b[1;34m(file_like, appendmat, mode)\u001b[0m\n\u001b[0;32m     43\u001b[0m     \u001b[38;5;28;01mif\u001b[39;00m appendmat \u001b[38;5;129;01mand\u001b[39;00m \u001b[38;5;129;01mnot\u001b[39;00m file_like\u001b[38;5;241m.\u001b[39mendswith(\u001b[38;5;124m'\u001b[39m\u001b[38;5;124m.mat\u001b[39m\u001b[38;5;124m'\u001b[39m):\n\u001b[0;32m     44\u001b[0m         file_like \u001b[38;5;241m+\u001b[39m\u001b[38;5;241m=\u001b[39m \u001b[38;5;124m'\u001b[39m\u001b[38;5;124m.mat\u001b[39m\u001b[38;5;124m'\u001b[39m\n\u001b[1;32m---> 45\u001b[0m     \u001b[38;5;28;01mreturn\u001b[39;00m \u001b[38;5;28mopen\u001b[39m(file_like, mode), \u001b[38;5;28;01mTrue\u001b[39;00m\n\u001b[0;32m     46\u001b[0m \u001b[38;5;28;01melse\u001b[39;00m:\n\u001b[0;32m     47\u001b[0m     \u001b[38;5;28;01mraise\u001b[39;00m \u001b[38;5;167;01mOSError\u001b[39;00m(\n\u001b[0;32m     48\u001b[0m         \u001b[38;5;124m'\u001b[39m\u001b[38;5;124mReader needs file name or open file-like object\u001b[39m\u001b[38;5;124m'\u001b[39m\n\u001b[0;32m     49\u001b[0m     ) \u001b[38;5;28;01mfrom\u001b[39;00m \u001b[38;5;21;01me\u001b[39;00m\n",
      "\u001b[1;31mFileNotFoundError\u001b[0m: [Errno 2] No such file or directory: 'data/Class1-Parent/2021060701epoch(1-3-6-9-12)_noref.mat'"
     ]
    }
   ],
   "source": [
    "# 导入mat数据\n",
    "path_mat='data/Class1-Parent/2021060701epoch(1-3-6-9-12)_noref.mat'\n",
    "data_mat = scio.loadmat(path_mat)\n",
    "# data_mat的格式为情况*1*频段\n",
    "\n",
    "# 选择目标模态对应的数据，ts的格式为被试数*时间点数*通道数\n",
    "# 目标模态设置为：\n",
    "sit,freq,subc=sit_c3,theta,'child'\n",
    "ts = data_mat[sit][0][freq].T\n",
    "\n",
    "# 群体subc选择\n",
    "if subc=='child': # 如果subject的类型为 child\n",
    "    ts_subc = ts[:,:,0:28]\n",
    "elif subc=='adult': # 如果subject的类型为 adult\n",
    "    ts_subc = ts[:,:,28:56]\n",
    "\n",
    "# 被试组选择\n",
    "i=1\n",
    "E,edges,nodes1,nodes2 = eFC.Int_exp(ts_subc[i])\n",
    "eFC2 = eFC.eFC_mat(E)\n",
    "eFC2.shape"
   ]
  },
  {
   "cell_type": "code",
   "execution_count": null,
   "metadata": {},
   "outputs": [],
   "source": [
    "# 导入mat数据\n",
    "path_mat='data/Class1-Parent/2021061003epoch(1-3-6-9-12)_noref.mat'\n",
    "data_mat = scio.loadmat(path_mat)\n",
    "# data_mat的格式为情况*1*频段\n",
    "\n",
    "# 选择目标模态对应的数据，ts的格式为被试数*时间点数*通道数\n",
    "# 目标模态设置为：\n",
    "sit,freq,subc=sit_c3,theta,'child'\n",
    "ts = data_mat[sit][0][freq].T\n",
    "\n",
    "# 群体subc选择\n",
    "if subc=='child': # 如果subject的类型为 child\n",
    "    ts_subc = ts[:,:,0:28]\n",
    "elif subc=='adult': # 如果subject的类型为 adult\n",
    "    ts_subc = ts[:,:,28:56]\n",
    "\n",
    "# 被试组选择\n",
    "i=0\n",
    "E,edges,nodes1,nodes2 = eFC.Int_exp(ts_subc[i])\n",
    "eFC3 = eFC.eFC_mat(E)\n",
    "eFC3.shape"
   ]
  },
  {
   "cell_type": "code",
   "execution_count": null,
   "metadata": {},
   "outputs": [],
   "source": [
    "data=pd.DataFrame(eFC1)\n",
    " \n",
    "#绘制热度图：\n",
    "plot=sns.heatmap(data=data,cmap=\"RdBu_r\")\n",
    "\n",
    "extnt = 10 #间隔数\n",
    "plt.xticks(np.arange(0,eFC3.shape[0],extnt),nodes1[np.arange(0,eFC3.shape[0],extnt)])\n",
    "\n",
    "plt.show()"
   ]
  },
  {
   "cell_type": "code",
   "execution_count": null,
   "metadata": {},
   "outputs": [],
   "source": [
    "data=pd.DataFrame(eFC2)\n",
    " \n",
    "#绘制热度图：\n",
    "plot=sns.heatmap(data=data,cmap=\"RdBu_r\")\n",
    " \n",
    "plt.show()"
   ]
  },
  {
   "cell_type": "code",
   "execution_count": null,
   "metadata": {},
   "outputs": [],
   "source": [
    "data=pd.DataFrame(eFC3)\n",
    " \n",
    "#绘制热度图：\n",
    "plot=sns.heatmap(data=data,cmap=\"RdBu_r\")\n",
    " \n",
    "plt.show()"
   ]
  },
  {
   "cell_type": "code",
   "execution_count": null,
   "metadata": {},
   "outputs": [],
   "source": [
    "kmeans = KMeans(n_clusters=100, random_state=0, n_init=10).fit(eFC1)"
   ]
  },
  {
   "cell_type": "code",
   "execution_count": null,
   "metadata": {},
   "outputs": [],
   "source": [
    "print(kmeans.labels_)"
   ]
  },
  {
   "cell_type": "code",
   "execution_count": null,
   "metadata": {},
   "outputs": [],
   "source": [
    "from sklearn.cluster import MeanShift\n",
    "\n",
    "means = MeanShift()\n",
    "# 模型拟合与聚类预测\n",
    "label_EFC = means.fit_predict(eFC1)"
   ]
  },
  {
   "cell_type": "code",
   "execution_count": null,
   "metadata": {},
   "outputs": [],
   "source": [
    "label_EFC"
   ]
  }
 ],
 "metadata": {
  "kernelspec": {
   "display_name": "Python 3",
   "language": "python",
   "name": "python3"
  },
  "language_info": {
   "codemirror_mode": {
    "name": "ipython",
    "version": 3
   },
   "file_extension": ".py",
   "mimetype": "text/x-python",
   "name": "python",
   "nbconvert_exporter": "python",
   "pygments_lexer": "ipython3",
   "version": "3.11.9"
  },
  "orig_nbformat": 4
 },
 "nbformat": 4,
 "nbformat_minor": 2
}
